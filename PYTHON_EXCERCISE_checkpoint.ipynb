{
  "cells": [
    {
      "cell_type": "markdown",
      "metadata": {
        "id": "view-in-github",
        "colab_type": "text"
      },
      "source": [
        "<a href=\"https://colab.research.google.com/github/MEGHANA192/python/blob/main/PYTHON_EXCERCISE_checkpoint.ipynb\" target=\"_parent\"><img src=\"https://colab.research.google.com/assets/colab-badge.svg\" alt=\"Open In Colab\"/></a>"
      ]
    },
    {
      "cell_type": "markdown",
      "id": "47d7a811",
      "metadata": {
        "id": "47d7a811"
      },
      "source": [
        "# average of 3 numbers static"
      ]
    },
    {
      "cell_type": "code",
      "execution_count": null,
      "id": "7242e37f",
      "metadata": {
        "id": "7242e37f",
        "outputId": "36863664-19f3-4703-8418-bab318cdb325"
      },
      "outputs": [
        {
          "name": "stdout",
          "output_type": "stream",
          "text": [
            "20.0\n",
            "<class 'float'>\n"
          ]
        }
      ],
      "source": [
        "a=10\n",
        "b=20\n",
        "c=30\n",
        "avg=(a+b+c)/3\n",
        "print(avg)\n",
        "print(type(avg))"
      ]
    },
    {
      "cell_type": "markdown",
      "id": "63de2108",
      "metadata": {
        "id": "63de2108"
      },
      "source": [
        "## multiplication of 3 numbers using static"
      ]
    },
    {
      "cell_type": "code",
      "execution_count": null,
      "id": "f619939a",
      "metadata": {
        "id": "f619939a",
        "outputId": "a0a551d7-044d-4636-8ad5-bdd18ed27eb5"
      },
      "outputs": [
        {
          "name": "stdout",
          "output_type": "stream",
          "text": [
            "24\n",
            "<class 'int'>\n"
          ]
        }
      ],
      "source": [
        "a=2\n",
        "b=3\n",
        "c=4\n",
        "multiplication=a*b*c\n",
        "print(multiplication)\n",
        "print(type(multiplication))"
      ]
    },
    {
      "cell_type": "markdown",
      "id": "c32848cd",
      "metadata": {
        "id": "c32848cd"
      },
      "source": [
        "## dynamic addition of 2 numbers"
      ]
    },
    {
      "cell_type": "code",
      "execution_count": null,
      "id": "f4cda435",
      "metadata": {
        "id": "f4cda435",
        "outputId": "73af8d9f-3516-4c1a-cf7f-c02925dfd1b3"
      },
      "outputs": [
        {
          "name": "stdout",
          "output_type": "stream",
          "text": [
            "enter a number 10\n",
            "enter a number 20\n",
            "30\n",
            "<class 'int'>\n"
          ]
        }
      ],
      "source": [
        "a=int(input(\"enter a number \"))\n",
        "b=int(input(\"enter a number \"))\n",
        "addition=a+b\n",
        "print(addition)\n",
        "print(type(addition))"
      ]
    },
    {
      "cell_type": "markdown",
      "id": "2accae39",
      "metadata": {
        "id": "2accae39"
      },
      "source": [
        "## multiplication of 3 numbers dynamic "
      ]
    },
    {
      "cell_type": "code",
      "execution_count": null,
      "id": "1b2913fc",
      "metadata": {
        "id": "1b2913fc",
        "outputId": "a3d809cc-4f83-45bb-da73-23e6da434f64"
      },
      "outputs": [
        {
          "name": "stdout",
          "output_type": "stream",
          "text": [
            "enter a number 2\n",
            "enter a number 3\n",
            "enter a number 4\n",
            "24\n",
            "<class 'int'>\n"
          ]
        }
      ],
      "source": [
        "a=int(input(\"enter a number \"))\n",
        "b=int(input(\"enter a number \"))\n",
        "c=int(input(\"enter a number \"))\n",
        "multiplication=a*b*c\n",
        "print(multiplication)\n",
        "print(type(multiplication))\n",
        "\n"
      ]
    },
    {
      "cell_type": "markdown",
      "id": "dea6db39",
      "metadata": {
        "id": "dea6db39"
      },
      "source": [
        "## avg of 3 numbers dynamic"
      ]
    },
    {
      "cell_type": "code",
      "execution_count": null,
      "id": "9718c927",
      "metadata": {
        "id": "9718c927",
        "outputId": "ef6f078e-3383-4902-9022-a1d68ebede5d"
      },
      "outputs": [
        {
          "name": "stdout",
          "output_type": "stream",
          "text": [
            "enter a number 1\n",
            "enter a number 1\n",
            "enter a number 1\n",
            "1.0\n",
            "<class 'float'>\n"
          ]
        }
      ],
      "source": [
        "a=int(input(\"enter a number \"))\n",
        "b=int(input(\"enter a number \"))\n",
        "c=int(input(\"enter a number \"))\n",
        "avg=(a+b+c)/3\n",
        "print(avg)\n",
        "print(type(avg))\n"
      ]
    },
    {
      "cell_type": "markdown",
      "id": "3aa19002",
      "metadata": {
        "id": "3aa19002"
      },
      "source": [
        "## conversion data types\n",
        "### 1 ) int to float"
      ]
    },
    {
      "cell_type": "code",
      "execution_count": null,
      "id": "bc4296ec",
      "metadata": {
        "id": "bc4296ec",
        "outputId": "aaa64cda-0dfa-4b7a-841a-8a59fc6de7b1"
      },
      "outputs": [
        {
          "name": "stdout",
          "output_type": "stream",
          "text": [
            "<class 'int'>\n",
            "<class 'float'>\n"
          ]
        }
      ],
      "source": [
        "a=10\n",
        "print(type(a))\n",
        "b=float(a)\n",
        "print(type(b))"
      ]
    },
    {
      "cell_type": "markdown",
      "id": "6c7712df",
      "metadata": {
        "id": "6c7712df"
      },
      "source": [
        "### 2) float to int"
      ]
    },
    {
      "cell_type": "code",
      "execution_count": null,
      "id": "bcf1d4f9",
      "metadata": {
        "id": "bcf1d4f9",
        "outputId": "2ac4154a-ce12-4432-8786-aaa0ca3f88c6"
      },
      "outputs": [
        {
          "name": "stdout",
          "output_type": "stream",
          "text": [
            "10.3\n",
            "<class 'float'>\n",
            "10\n",
            "<class 'int'>\n"
          ]
        }
      ],
      "source": [
        "a=10.3\n",
        "print(a)\n",
        "print(type(a))\n",
        "b=int(a)\n",
        "print(b)\n",
        "print(type(b))"
      ]
    },
    {
      "cell_type": "markdown",
      "id": "c98a41db",
      "metadata": {
        "id": "c98a41db"
      },
      "source": [
        "### 3) int to string"
      ]
    },
    {
      "cell_type": "code",
      "execution_count": null,
      "id": "13c33605",
      "metadata": {
        "id": "13c33605",
        "outputId": "dc1a54b4-97e8-4cd7-bcd4-503dcb2d65c7"
      },
      "outputs": [
        {
          "name": "stdout",
          "output_type": "stream",
          "text": [
            "10\n",
            "<class 'int'>\n",
            "10\n",
            "<class 'str'>\n"
          ]
        }
      ],
      "source": [
        "a=10\n",
        "print(a)\n",
        "print(type(a))\n",
        "b=str(a)\n",
        "print(b)\n",
        "print(type(b))"
      ]
    },
    {
      "cell_type": "markdown",
      "id": "254d63d2",
      "metadata": {
        "id": "254d63d2"
      },
      "source": [
        "### 4) a)string to float  (olny possible when string is not in char)"
      ]
    },
    {
      "cell_type": "code",
      "execution_count": null,
      "id": "56b1d684",
      "metadata": {
        "id": "56b1d684",
        "outputId": "943702f7-8eaf-4b20-df58-f0c9f9ce5843"
      },
      "outputs": [
        {
          "name": "stdout",
          "output_type": "stream",
          "text": [
            "10.3\n",
            "<class 'str'>\n",
            "10.3\n",
            "<class 'float'>\n"
          ]
        }
      ],
      "source": [
        "a='10.3'\n",
        "print(a)\n",
        "print(type(a))\n",
        "b=float(a)\n",
        "print(b)\n",
        "print(type(b))"
      ]
    },
    {
      "cell_type": "markdown",
      "id": "e3a7bfaa",
      "metadata": {
        "id": "e3a7bfaa"
      },
      "source": [
        "### 4) b) string to int (olny possible when string is not in char)"
      ]
    },
    {
      "cell_type": "code",
      "execution_count": null,
      "id": "6570eebe",
      "metadata": {
        "id": "6570eebe",
        "outputId": "6fabe008-6472-4810-d738-bca44b554cfb"
      },
      "outputs": [
        {
          "name": "stdout",
          "output_type": "stream",
          "text": [
            "10\n",
            "<class 'str'>\n",
            "10\n",
            "<class 'int'>\n"
          ]
        }
      ],
      "source": [
        "a='10'\n",
        "print(a)\n",
        "print(type(a))\n",
        "b=int(a)\n",
        "print(b)\n",
        "print(type(b))"
      ]
    },
    {
      "cell_type": "markdown",
      "id": "6153e23d",
      "metadata": {
        "id": "6153e23d"
      },
      "source": [
        "### BOOLEANS"
      ]
    },
    {
      "cell_type": "code",
      "execution_count": null,
      "id": "f072890a",
      "metadata": {
        "id": "f072890a",
        "outputId": "d39294d0-6734-4bdc-937e-6907f04ce9ae"
      },
      "outputs": [
        {
          "name": "stdout",
          "output_type": "stream",
          "text": [
            "False\n",
            "True\n"
          ]
        }
      ],
      "source": [
        "a=23\n",
        "b=25\n",
        "print(bool(a==b))\n",
        "print(bool(b==25))"
      ]
    },
    {
      "cell_type": "markdown",
      "id": "3c32a989",
      "metadata": {
        "id": "3c32a989"
      },
      "source": [
        "#### boolean with condition example"
      ]
    },
    {
      "cell_type": "code",
      "execution_count": null,
      "id": "5f92e644",
      "metadata": {
        "id": "5f92e644",
        "outputId": "5dc63bc0-c318-4b67-d453-188e54c0ac3e"
      },
      "outputs": [
        {
          "name": "stdout",
          "output_type": "stream",
          "text": [
            "True\n",
            "<class 'bool'>\n"
          ]
        }
      ],
      "source": [
        "a=10\n",
        "b=5\n",
        "c=a>b\n",
        "print(c)\n",
        "print(type(c))"
      ]
    },
    {
      "cell_type": "markdown",
      "id": "a2bed090",
      "metadata": {
        "id": "a2bed090"
      },
      "source": [
        "### boolean to int"
      ]
    },
    {
      "cell_type": "code",
      "execution_count": null,
      "id": "afae4135",
      "metadata": {
        "id": "afae4135",
        "outputId": "c22118c5-07dc-48a6-be58-d8d0ecc26907"
      },
      "outputs": [
        {
          "name": "stdout",
          "output_type": "stream",
          "text": [
            "True\n",
            "<class 'bool'>\n",
            "1\n",
            "<class 'int'>\n"
          ]
        }
      ],
      "source": [
        "a=bool(23)\n",
        "print(a)\n",
        "print(type(a))\n",
        "b=int(a)\n",
        "print(b)\n",
        "print(type(b))"
      ]
    },
    {
      "cell_type": "markdown",
      "id": "01333289",
      "metadata": {
        "id": "01333289"
      },
      "source": [
        "## bolean to float"
      ]
    },
    {
      "cell_type": "code",
      "execution_count": null,
      "id": "61303d8a",
      "metadata": {
        "id": "61303d8a",
        "outputId": "d933b56c-63f8-466d-d178-3a6e77907084"
      },
      "outputs": [
        {
          "name": "stdout",
          "output_type": "stream",
          "text": [
            "True\n",
            "<class 'bool'>\n",
            "1.0\n",
            "<class 'float'>\n"
          ]
        }
      ],
      "source": [
        "a=bool(23)\n",
        "print(a)\n",
        "print(type(a))\n",
        "b=float(a)\n",
        "print(b)\n",
        "print(type(b))"
      ]
    },
    {
      "cell_type": "markdown",
      "id": "1e65d070",
      "metadata": {
        "id": "1e65d070"
      },
      "source": [
        "### int to boolean"
      ]
    },
    {
      "cell_type": "code",
      "execution_count": null,
      "id": "15f4cb44",
      "metadata": {
        "id": "15f4cb44",
        "outputId": "d0cecafc-7021-48fd-981b-e9d7cd14bf45"
      },
      "outputs": [
        {
          "name": "stdout",
          "output_type": "stream",
          "text": [
            "23\n",
            "<class 'int'>\n",
            "True\n",
            "<class 'bool'>\n"
          ]
        }
      ],
      "source": [
        "a=23\n",
        "print(a)\n",
        "print(type(a))\n",
        "b=bool(a)\n",
        "print(b)\n",
        "print(type(b))"
      ]
    },
    {
      "cell_type": "markdown",
      "id": "a0bf0c60",
      "metadata": {
        "id": "a0bf0c60"
      },
      "source": [
        "### float to boolean"
      ]
    },
    {
      "cell_type": "code",
      "execution_count": null,
      "id": "8015ba98",
      "metadata": {
        "id": "8015ba98",
        "outputId": "01a20a67-7237-4ca8-dd26-b4cad0b7d594"
      },
      "outputs": [
        {
          "name": "stdout",
          "output_type": "stream",
          "text": [
            "23.5\n",
            "<class 'float'>\n",
            "True\n",
            "<class 'bool'>\n"
          ]
        }
      ],
      "source": [
        "a=23.5\n",
        "print(a)\n",
        "print(type(a))\n",
        "b=bool(a)\n",
        "print(b)\n",
        "print(type(b))"
      ]
    },
    {
      "cell_type": "markdown",
      "id": "202b3620",
      "metadata": {
        "id": "202b3620"
      },
      "source": [
        "### complex numbers"
      ]
    },
    {
      "cell_type": "code",
      "execution_count": null,
      "id": "311bd2ac",
      "metadata": {
        "id": "311bd2ac"
      },
      "outputs": [],
      "source": [
        ""
      ]
    }
  ],
  "metadata": {
    "kernelspec": {
      "display_name": "Python 3 (ipykernel)",
      "language": "python",
      "name": "python3"
    },
    "language_info": {
      "codemirror_mode": {
        "name": "ipython",
        "version": 3
      },
      "file_extension": ".py",
      "mimetype": "text/x-python",
      "name": "python",
      "nbconvert_exporter": "python",
      "pygments_lexer": "ipython3",
      "version": "3.9.7"
    },
    "colab": {
      "name": "PYTHON EXCERCISE-checkpoint.ipynb",
      "provenance": [],
      "include_colab_link": true
    }
  },
  "nbformat": 4,
  "nbformat_minor": 5
}