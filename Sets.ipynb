{
  "nbformat": 4,
  "nbformat_minor": 0,
  "metadata": {
    "colab": {
      "name": "Sets",
      "provenance": [],
      "collapsed_sections": [],
      "authorship_tag": "ABX9TyNlj+ZQvT1u1Je3Iw+WmeZO",
      "include_colab_link": true
    },
    "kernelspec": {
      "name": "python3",
      "display_name": "Python 3"
    },
    "language_info": {
      "name": "python"
    }
  },
  "cells": [
    {
      "cell_type": "markdown",
      "metadata": {
        "id": "view-in-github",
        "colab_type": "text"
      },
      "source": [
        "<a href=\"https://colab.research.google.com/github/MEGHANA192/python/blob/main/Sets.ipynb\" target=\"_parent\"><img src=\"https://colab.research.google.com/assets/colab-badge.svg\" alt=\"Open In Colab\"/></a>"
      ]
    },
    {
      "cell_type": "code",
      "source": [
        "a = {\"apple\", \"banana\", \"cherry\"}\n",
        "print(a)"
      ],
      "metadata": {
        "colab": {
          "base_uri": "https://localhost:8080/"
        },
        "id": "-I19a-EVMtf1",
        "outputId": "3631df1f-5621-4e1e-8d42-92ee1038b5f7"
      },
      "execution_count": 1,
      "outputs": [
        {
          "output_type": "stream",
          "name": "stdout",
          "text": [
            "{'banana', 'apple', 'cherry'}\n"
          ]
        }
      ]
    },
    {
      "cell_type": "code",
      "source": [
        "a = {\"apple\", \"banana\", \"cherry\",\"apple\"}\n",
        "print(a)\n",
        "print(len(a))"
      ],
      "metadata": {
        "colab": {
          "base_uri": "https://localhost:8080/"
        },
        "id": "m_q-qh0-M6aN",
        "outputId": "5071d5e3-db30-4959-930d-6a76f3f4c404"
      },
      "execution_count": 4,
      "outputs": [
        {
          "output_type": "stream",
          "name": "stdout",
          "text": [
            "{'banana', 'apple', 'cherry'}\n",
            "3\n"
          ]
        }
      ]
    },
    {
      "cell_type": "code",
      "source": [
        "a = {\"apple\", \"banana\", \"cherry\"}\n",
        "b = {1, 5, 7, 9, 3}\n",
        "c= {True, False, False}\n",
        "print(a)\n",
        "print(type(a))\n",
        "print(b)\n",
        "print(type(b))\n",
        "print(c)\n",
        "print(type(c))\n"
      ],
      "metadata": {
        "colab": {
          "base_uri": "https://localhost:8080/"
        },
        "id": "mWacKJTfNH4k",
        "outputId": "bb814f0a-8754-47d6-9882-35dc28ea41c7"
      },
      "execution_count": 5,
      "outputs": [
        {
          "output_type": "stream",
          "name": "stdout",
          "text": [
            "{'banana', 'apple', 'cherry'}\n",
            "<class 'set'>\n",
            "{1, 3, 5, 7, 9}\n",
            "<class 'set'>\n",
            "{False, True}\n",
            "<class 'set'>\n"
          ]
        }
      ]
    },
    {
      "cell_type": "code",
      "source": [
        "a= {\"abc\", 34, True, 40, \"male\"}\n",
        "print(a)\n",
        "print(type(a))"
      ],
      "metadata": {
        "colab": {
          "base_uri": "https://localhost:8080/"
        },
        "id": "sMl3K21MO8nV",
        "outputId": "25e31e92-bef1-4719-9974-349cb28850be"
      },
      "execution_count": 6,
      "outputs": [
        {
          "output_type": "stream",
          "name": "stdout",
          "text": [
            "{True, 34, 40, 'male', 'abc'}\n",
            "<class 'set'>\n"
          ]
        }
      ]
    },
    {
      "cell_type": "code",
      "source": [
        "a = set((\"apple\", \"banana\", \"cherry\")) # note the double round-brackets\n",
        "print(a)\n",
        "print(type(a))"
      ],
      "metadata": {
        "colab": {
          "base_uri": "https://localhost:8080/"
        },
        "id": "zLnlssmuPns1",
        "outputId": "b7a98a2a-3002-452b-bb38-395b6fc38789"
      },
      "execution_count": 8,
      "outputs": [
        {
          "output_type": "stream",
          "name": "stdout",
          "text": [
            "{'banana', 'apple', 'cherry'}\n",
            "<class 'set'>\n"
          ]
        }
      ]
    },
    {
      "cell_type": "markdown",
      "source": [
        "for loop"
      ],
      "metadata": {
        "id": "vSnkc5wYQhrT"
      }
    },
    {
      "cell_type": "code",
      "source": [
        "a = {\"apple\", \"banana\", \"cherry\"}\n",
        "\n",
        "for x in a:\n",
        "  print(x)"
      ],
      "metadata": {
        "colab": {
          "base_uri": "https://localhost:8080/"
        },
        "id": "3LlVMm8VP59E",
        "outputId": "0018aa95-1c2e-4b83-959e-8df63d8d9a19"
      },
      "execution_count": 9,
      "outputs": [
        {
          "output_type": "stream",
          "name": "stdout",
          "text": [
            "banana\n",
            "apple\n",
            "cherry\n"
          ]
        }
      ]
    },
    {
      "cell_type": "code",
      "source": [
        "a = {\"apple\", \"banana\", \"cherry\"}\n",
        "\n",
        "print(\"banana\" in a)\n"
      ],
      "metadata": {
        "colab": {
          "base_uri": "https://localhost:8080/"
        },
        "id": "XNVngonNQfxB",
        "outputId": "2a4b98d1-f8b9-498b-c590-9661a4be9516"
      },
      "execution_count": 10,
      "outputs": [
        {
          "output_type": "stream",
          "name": "stdout",
          "text": [
            "True\n"
          ]
        }
      ]
    },
    {
      "cell_type": "markdown",
      "source": [
        "Change Items\n",
        "\n",
        "Once a set is created, you cannot change its items, but you can add new items."
      ],
      "metadata": {
        "id": "gbB_jTtYRTTU"
      }
    },
    {
      "cell_type": "markdown",
      "source": [
        "adding lisst items"
      ],
      "metadata": {
        "id": "0eTYclxuRnBG"
      }
    },
    {
      "cell_type": "code",
      "source": [
        "a = {\"apple\", \"banana\", \"cherry\"}\n",
        "\n",
        "a.add(\"orange\")\n",
        "\n",
        "print(a)"
      ],
      "metadata": {
        "colab": {
          "base_uri": "https://localhost:8080/"
        },
        "id": "fqkWPl1AQ4Zl",
        "outputId": "9d75b011-7c2c-4e66-e904-701206a686a4"
      },
      "execution_count": 12,
      "outputs": [
        {
          "output_type": "stream",
          "name": "stdout",
          "text": [
            "{'banana', 'apple', 'cherry', 'orange'}\n"
          ]
        }
      ]
    },
    {
      "cell_type": "markdown",
      "source": [
        "adding 2 sets"
      ],
      "metadata": {
        "id": "hX3OXZ38R518"
      }
    },
    {
      "cell_type": "code",
      "source": [
        "fruitsa = {\"apple\", \"banana\", \"cherry\"}\n",
        "fruitsb = {\"pineapple\", \"mango\", \"papaya\"}\n",
        "\n",
        "fruitsa.update(fruitsb)\n",
        "\n",
        "print(fruitsa)"
      ],
      "metadata": {
        "colab": {
          "base_uri": "https://localhost:8080/"
        },
        "id": "HJGJIFcWRkWH",
        "outputId": "f4e8d05e-1082-4f01-85ac-1d98564ac347"
      },
      "execution_count": 14,
      "outputs": [
        {
          "output_type": "stream",
          "name": "stdout",
          "text": [
            "{'mango', 'banana', 'apple', 'pineapple', 'cherry', 'papaya'}\n"
          ]
        }
      ]
    },
    {
      "cell_type": "code",
      "source": [
        "a = {\"apple\", \"banana\", \"cherry\"}\n",
        "b = [\"kiwi\", \"orange\"]\n",
        "\n",
        "a.update(b)\n",
        "\n",
        "print(a)\n"
      ],
      "metadata": {
        "colab": {
          "base_uri": "https://localhost:8080/"
        },
        "id": "xjn-qKHFR4ak",
        "outputId": "9a38a103-5b1d-48a3-c207-57d4caf80b26"
      },
      "execution_count": 15,
      "outputs": [
        {
          "output_type": "stream",
          "name": "stdout",
          "text": [
            "{'banana', 'orange', 'cherry', 'kiwi', 'apple'}\n"
          ]
        }
      ]
    },
    {
      "cell_type": "markdown",
      "source": [
        "## remve set items"
      ],
      "metadata": {
        "id": "Xvx87inOSOz9"
      }
    },
    {
      "cell_type": "code",
      "source": [
        "a = {\"apple\", \"banana\", \"cherry\"}\n",
        "\n",
        "a.remove(\"banana\")\n",
        "\n",
        "print(a)"
      ],
      "metadata": {
        "colab": {
          "base_uri": "https://localhost:8080/"
        },
        "id": "7c4BN1WkSIXS",
        "outputId": "9ab42bbb-ca1f-47e6-ad0a-44537c7a8ca8"
      },
      "execution_count": 16,
      "outputs": [
        {
          "output_type": "stream",
          "name": "stdout",
          "text": [
            "{'apple', 'cherry'}\n"
          ]
        }
      ]
    },
    {
      "cell_type": "markdown",
      "source": [
        "Remove \"banana\" by using the discard() method:\n",
        "\n",
        "Note: If the item to remove does not exist, discard() will NOT raise an error."
      ],
      "metadata": {
        "id": "ejnK3yACSpjj"
      }
    },
    {
      "cell_type": "code",
      "source": [
        "a = {\"apple\", \"banana\", \"cherry\"}\n",
        "\n",
        "a.discard(\"banana\")\n",
        "\n",
        "print(a)"
      ],
      "metadata": {
        "colab": {
          "base_uri": "https://localhost:8080/"
        },
        "id": "J9nq7IuQSgy0",
        "outputId": "b83dfa60-2b7b-4ee7-df6e-4aa37960440f"
      },
      "execution_count": 17,
      "outputs": [
        {
          "output_type": "stream",
          "name": "stdout",
          "text": [
            "{'apple', 'cherry'}\n"
          ]
        }
      ]
    },
    {
      "cell_type": "markdown",
      "source": [
        "Remove the last item by using the pop() method:\n",
        "\n",
        "Note: Sets are unordered, so when using the pop() method, you do not know which item that gets removed.\n",
        "\n",
        "d"
      ],
      "metadata": {
        "id": "YRhLCEg-S_QF"
      }
    },
    {
      "cell_type": "code",
      "source": [
        "a = {\"apple\", \"banana\", \"cherry\"}\n",
        "\n",
        "x = a.pop()\n",
        "\n",
        "print(x)\n",
        "\n",
        "print(a)"
      ],
      "metadata": {
        "colab": {
          "base_uri": "https://localhost:8080/"
        },
        "id": "lzRml5Z8SwAj",
        "outputId": "b0498eea-bf53-4063-9215-3b9fbfd37fd5"
      },
      "execution_count": 35,
      "outputs": [
        {
          "output_type": "stream",
          "name": "stdout",
          "text": [
            "banana\n",
            "{'apple', 'cherry'}\n"
          ]
        }
      ]
    },
    {
      "cell_type": "code",
      "source": [
        "a = {\"apple\", \"banana\", \"cherry\"}\n",
        "x=list(a)\n",
        "x.pop(2)\n",
        "print(x)"
      ],
      "metadata": {
        "id": "4J3i7wrwTPYk"
      },
      "execution_count": null,
      "outputs": []
    },
    {
      "cell_type": "markdown",
      "source": [
        "The clear() method empties the set:"
      ],
      "metadata": {
        "id": "gQRk1s4MVkXt"
      }
    },
    {
      "cell_type": "code",
      "source": [
        "a = {\"apple\", \"banana\", \"cherry\"}\n",
        "\n",
        "a.clear()\n",
        "\n",
        "print(a)\n"
      ],
      "metadata": {
        "colab": {
          "base_uri": "https://localhost:8080/"
        },
        "id": "CTVq_uhhVlEk",
        "outputId": "c2c4ec8d-3898-4eea-b48d-9ee8075f26b9"
      },
      "execution_count": 36,
      "outputs": [
        {
          "output_type": "stream",
          "name": "stdout",
          "text": [
            "set()\n"
          ]
        }
      ]
    },
    {
      "cell_type": "markdown",
      "source": [
        "The del keyword will delete the set completely:"
      ],
      "metadata": {
        "id": "FFBz55HKVscJ"
      }
    },
    {
      "cell_type": "code",
      "source": [
        "a = {\"apple\", \"banana\", \"cherry\"}\n",
        "\n",
        "del a\n",
        "\n",
        "print(a)"
      ],
      "metadata": {
        "colab": {
          "base_uri": "https://localhost:8080/",
          "height": 200
        },
        "id": "abFEGuLeVpjp",
        "outputId": "ebd60fad-8244-4529-f359-3f7566066d5f"
      },
      "execution_count": 37,
      "outputs": [
        {
          "output_type": "error",
          "ename": "NameError",
          "evalue": "ignored",
          "traceback": [
            "\u001b[0;31m---------------------------------------------------------------------------\u001b[0m",
            "\u001b[0;31mNameError\u001b[0m                                 Traceback (most recent call last)",
            "\u001b[0;32m<ipython-input-37-5c7025b73824>\u001b[0m in \u001b[0;36m<module>\u001b[0;34m()\u001b[0m\n\u001b[1;32m      3\u001b[0m \u001b[0;32mdel\u001b[0m \u001b[0ma\u001b[0m\u001b[0;34m\u001b[0m\u001b[0;34m\u001b[0m\u001b[0m\n\u001b[1;32m      4\u001b[0m \u001b[0;34m\u001b[0m\u001b[0m\n\u001b[0;32m----> 5\u001b[0;31m \u001b[0mprint\u001b[0m\u001b[0;34m(\u001b[0m\u001b[0ma\u001b[0m\u001b[0;34m)\u001b[0m\u001b[0;34m\u001b[0m\u001b[0;34m\u001b[0m\u001b[0m\n\u001b[0m",
            "\u001b[0;31mNameError\u001b[0m: name 'a' is not defined"
          ]
        }
      ]
    },
    {
      "cell_type": "markdown",
      "source": [
        "## loops"
      ],
      "metadata": {
        "id": "5zCzKB3rWMn9"
      }
    },
    {
      "cell_type": "markdown",
      "source": [
        ""
      ],
      "metadata": {
        "id": "mDHmKA_zWVWz"
      }
    },
    {
      "cell_type": "code",
      "source": [
        "a = {\"apple\", \"banana\", \"cherry\"}\n",
        "\n",
        "for x in a:\n",
        "  print(x)"
      ],
      "metadata": {
        "colab": {
          "base_uri": "https://localhost:8080/"
        },
        "id": "8QB0To7dV-EU",
        "outputId": "b4127d06-a3a1-4ecb-9cfb-bfd286cbd50a"
      },
      "execution_count": 38,
      "outputs": [
        {
          "output_type": "stream",
          "name": "stdout",
          "text": [
            "banana\n",
            "apple\n",
            "cherry\n"
          ]
        }
      ]
    },
    {
      "cell_type": "markdown",
      "source": [
        "## Join Sets"
      ],
      "metadata": {
        "id": "9r8mFHCgW-aE"
      }
    },
    {
      "cell_type": "markdown",
      "source": [
        "Join Two Sets"
      ],
      "metadata": {
        "id": "mjUJccr7XUeE"
      }
    },
    {
      "cell_type": "markdown",
      "source": [
        "The union() method returns a new set with all items from both sets:"
      ],
      "metadata": {
        "id": "a8oG209PXa6k"
      }
    },
    {
      "cell_type": "code",
      "source": [
        "a = {\"a\", \"b\" , \"c\"}\n",
        "b = {1, 2, 3}\n",
        "\n",
        "c = a.union(b)\n",
        "print(c)"
      ],
      "metadata": {
        "colab": {
          "base_uri": "https://localhost:8080/"
        },
        "id": "6iJjQnKJWfGj",
        "outputId": "9cf4bf98-e042-4388-8676-da80191db004"
      },
      "execution_count": 40,
      "outputs": [
        {
          "output_type": "stream",
          "name": "stdout",
          "text": [
            "{'b', 1, 2, 3, 'c', 'a'}\n"
          ]
        }
      ]
    },
    {
      "cell_type": "code",
      "source": [
        "a = {\"a\", \"b\" , \"c\"}\n",
        "b = {1, 2, 3}\n",
        "\n",
        "a.update(b)\n",
        "print(a)"
      ],
      "metadata": {
        "colab": {
          "base_uri": "https://localhost:8080/"
        },
        "id": "zKgWnG4fYJ9M",
        "outputId": "c2d12aeb-ada7-4fe2-bab6-b488a1301661"
      },
      "execution_count": 42,
      "outputs": [
        {
          "output_type": "stream",
          "name": "stdout",
          "text": [
            "{'b', 1, 2, 3, 'c', 'a'}\n"
          ]
        }
      ]
    },
    {
      "cell_type": "markdown",
      "source": [
        "Note: Both union() and update() will exclude any duplicate items.\n",
        "\n"
      ],
      "metadata": {
        "id": "5sxlvqr-Yj60"
      }
    },
    {
      "cell_type": "markdown",
      "source": [
        "Keep ONLY the Duplicates\n"
      ],
      "metadata": {
        "id": "6xHXmoBTYzLU"
      }
    },
    {
      "cell_type": "markdown",
      "source": [
        "intersections"
      ],
      "metadata": {
        "id": "CmaJl9MaaGek"
      }
    },
    {
      "cell_type": "code",
      "source": [
        "x = {\"apple\", \"banana\", \"cherry\"}\n",
        "y = {\"google\", \"microsoft\", \"apple\"}\n",
        "\n",
        "x.intersection_update(y)\n",
        "\n",
        "print(x)"
      ],
      "metadata": {
        "colab": {
          "base_uri": "https://localhost:8080/"
        },
        "id": "3winIJOaYxO8",
        "outputId": "f2b17610-5f69-4f09-98b9-9dc7476cb44d"
      },
      "execution_count": 44,
      "outputs": [
        {
          "output_type": "stream",
          "name": "stdout",
          "text": [
            "{'apple'}\n"
          ]
        }
      ]
    },
    {
      "cell_type": "code",
      "source": [
        "x = {\"apple\", \"banana\", \"cherry\"}\n",
        "y = {\"google\", \"microsoft\", \"apple\"}\n",
        "\n",
        "z = x.intersection(y)\n",
        "\n",
        "print(z)"
      ],
      "metadata": {
        "colab": {
          "base_uri": "https://localhost:8080/"
        },
        "id": "klCu8vuqZArE",
        "outputId": "e343ac79-0114-4eaa-8d05-ad1aa8b82759"
      },
      "execution_count": 45,
      "outputs": [
        {
          "output_type": "stream",
          "name": "stdout",
          "text": [
            "{'apple'}\n"
          ]
        }
      ]
    },
    {
      "cell_type": "markdown",
      "source": [
        "The intersection() method will return a new set, that only contains the items that are present in both sets.\n",
        "\n"
      ],
      "metadata": {
        "id": "QoBrTSf0ZFGk"
      }
    },
    {
      "cell_type": "markdown",
      "source": [
        "Keep All, But NOT the Duplicates\n"
      ],
      "metadata": {
        "id": "vidW0h8ZZNIl"
      }
    },
    {
      "cell_type": "code",
      "source": [
        "x = {\"apple\", \"banana\", \"cherry\"}\n",
        "y = {\"google\", \"microsoft\", \"apple\"}\n",
        "\n",
        "x.symmetric_difference_update(y)\n",
        "\n",
        "print(x)"
      ],
      "metadata": {
        "colab": {
          "base_uri": "https://localhost:8080/"
        },
        "id": "5wXOkrHTZOC1",
        "outputId": "ac9c2828-cbc2-4fc3-f603-77801c1aaae1"
      },
      "execution_count": 46,
      "outputs": [
        {
          "output_type": "stream",
          "name": "stdout",
          "text": [
            "{'microsoft', 'banana', 'cherry', 'google'}\n"
          ]
        }
      ]
    },
    {
      "cell_type": "markdown",
      "source": [
        "The symmetric_difference() method will return a new set, that contains only the elements that are NOT present in both sets.:\n",
        "\n",
        "\n",
        "\n"
      ],
      "metadata": {
        "id": "6UqwdDdAZUNN"
      }
    },
    {
      "cell_type": "code",
      "source": [
        "x = {\"apple\", \"banana\", \"cherry\"}\n",
        "y = {\"google\", \"microsoft\", \"apple\"}\n",
        "\n",
        "z = x.symmetric_difference(y)\n",
        "\n",
        "print(z)"
      ],
      "metadata": {
        "colab": {
          "base_uri": "https://localhost:8080/"
        },
        "id": "59pXP4EaZQ3k",
        "outputId": "4df46c6c-adbd-4e47-b513-a93a2eaa9678"
      },
      "execution_count": 49,
      "outputs": [
        {
          "output_type": "stream",
          "name": "stdout",
          "text": [
            "{'microsoft', 'banana', 'cherry', 'google'}\n"
          ]
        }
      ]
    },
    {
      "cell_type": "code",
      "source": [
        ""
      ],
      "metadata": {
        "id": "R6J0jkb6aYQk"
      },
      "execution_count": null,
      "outputs": []
    }
  ]
}