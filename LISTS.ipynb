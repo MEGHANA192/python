{
  "nbformat": 4,
  "nbformat_minor": 0,
  "metadata": {
    "colab": {
      "name": "LISTS",
      "provenance": [],
      "authorship_tag": "ABX9TyMal/aAE8/7nBY/A89oWllH",
      "include_colab_link": true
    },
    "kernelspec": {
      "name": "python3",
      "display_name": "Python 3"
    },
    "language_info": {
      "name": "python"
    }
  },
  "cells": [
    {
      "cell_type": "markdown",
      "metadata": {
        "id": "view-in-github",
        "colab_type": "text"
      },
      "source": [
        "<a href=\"https://colab.research.google.com/github/MEGHANA192/python/blob/main/LISTS.ipynb\" target=\"_parent\"><img src=\"https://colab.research.google.com/assets/colab-badge.svg\" alt=\"Open In Colab\"/></a>"
      ]
    },
    {
      "cell_type": "markdown",
      "source": [
        ""
      ],
      "metadata": {
        "id": "PdXyraX0WO1v"
      }
    },
    {
      "cell_type": "markdown",
      "source": [
        "LISTS INDEX VALUES\n",
        "PRINTING DESIRED INDEX VALUES\n"
      ],
      "metadata": {
        "id": "Ta7KspKXig1J"
      }
    },
    {
      "cell_type": "code",
      "execution_count": 13,
      "metadata": {
        "colab": {
          "base_uri": "https://localhost:8080/"
        },
        "id": "kUtFolSTVyTR",
        "outputId": "9c95f639-8a0f-452f-f262-9d787f6a3cbf"
      },
      "outputs": [
        {
          "output_type": "stream",
          "name": "stdout",
          "text": [
            "(['orange'], ['mango'], ['banana'], ['papaya'], ['apple'])\n",
            "<class 'tuple'>\n",
            "['orange']\n",
            "['apple']\n"
          ]
        }
      ],
      "source": [
        "fruit=[\"orange\"],[\"mango\"],[\"banana\"],[\"papaya\"],[\"apple\"]\n",
        "print(fruit)\n",
        "print(type(fruit))\n",
        "print(fruit[0])\n",
        "print(fruit[1])\n",
        "print(fruit[-1])\n",
        "\n"
      ]
    },
    {
      "cell_type": "markdown",
      "source": [
        "TO APEND ,REMOVE, EXTEND, POP, PRINT IN BETWEEN 2 INDEX VALUES,REVERSE,EDIT "
      ],
      "metadata": {
        "id": "jIcsznAkiuNP"
      }
    },
    {
      "cell_type": "markdown",
      "source": [
        "1)WHEN WE USE SQUARE BRACCKETS WE ARE IN LIST\n"
      ],
      "metadata": {
        "id": "dAACeFyLi-nn"
      }
    },
    {
      "cell_type": "markdown",
      "source": [
        "2)WHEN WE USE NORMAL BRACKETS() WE ARE IN TUPLE"
      ],
      "metadata": {
        "id": "JU5rOeNtjIIn"
      }
    },
    {
      "cell_type": "markdown",
      "source": [
        "NOTE: DIFFERNCE BETWEEN TUPLE AND LIST IS THAT IN TUPLE WE CANNOT ADD AFTER DECLARATION BY USING FUNCTIONS BUT IN LIST WE CAN ADD USING FUNCTIONS"
      ],
      "metadata": {
        "id": "e5bz6Zx0kgTZ"
      }
    },
    {
      "cell_type": "code",
      "source": [
        "fruit=[\"orange\",\"mango\",\"banana\",\"papaya\",\"apple\"]\n",
        "veg=[\"tamato\",\"orange\"]\n",
        "veg.pop(1)\n",
        "fruit.append('kiwi') #append is used to add into the list in a random place\n",
        "fruit.insert(5,\"grapes\")#to insert st a certain  given position in the list\n",
        "fruit.remove(\"banana\")#to remove a something from the list\n",
        "fruit.extend(veg)\n",
        "print(fruit)\n",
        "print(fruit[0:2])#to print in between the given two  index values\n",
        "print(fruit[:2]) # when no index value is given it will be considerd zero\n",
        "print(fruit[1:2])\n",
        "print(fruit[2:4])"
      ],
      "metadata": {
        "colab": {
          "base_uri": "https://localhost:8080/"
        },
        "id": "HRoE0X1AYi_H",
        "outputId": "b38b662b-ba33-44f4-aa78-05c60ed7b884"
      },
      "execution_count": 59,
      "outputs": [
        {
          "output_type": "stream",
          "name": "stdout",
          "text": [
            "['orange', 'mango', 'papaya', 'apple', 'grapes', 'kiwi', 'tamato']\n",
            "['orange', 'mango']\n",
            "['orange', 'mango']\n",
            "['mango']\n",
            "['papaya', 'apple']\n"
          ]
        }
      ]
    },
    {
      "cell_type": "markdown",
      "source": [
        "apend function\n"
      ],
      "metadata": {
        "id": "0_UIf_csnajH"
      }
    },
    {
      "cell_type": "code",
      "source": [
        "fruit=[\"orange\",\"mango\",\"banana\",\"papaya\",\"apple\"]\n",
        "fruit.append('kiwi')\n",
        " #append is used to add into the list in a random place\n",
        "print(fruit)"
      ],
      "metadata": {
        "colab": {
          "base_uri": "https://localhost:8080/"
        },
        "id": "N-GJm1qAnfKA",
        "outputId": "219017a2-8d02-4521-c3df-50ed8328e724"
      },
      "execution_count": 72,
      "outputs": [
        {
          "output_type": "stream",
          "name": "stdout",
          "text": [
            "['orange', 'mango', 'banana', 'papaya', 'apple', 'kiwi']\n"
          ]
        }
      ]
    },
    {
      "cell_type": "markdown",
      "source": [
        "insert function"
      ],
      "metadata": {
        "id": "d54Y05bdnyMx"
      }
    },
    {
      "cell_type": "code",
      "source": [
        "fruit=[\"orange\",\"mango\",\"banana\",\"papaya\",\"apple\"]\n",
        "fruit.insert(3,\"grapes\")#to insert st a certain  given position in the list\n",
        "print(fruit)"
      ],
      "metadata": {
        "colab": {
          "base_uri": "https://localhost:8080/"
        },
        "id": "VE0IotPYn2NI",
        "outputId": "deb465e3-bee3-483c-ac01-4d381d0ca80b"
      },
      "execution_count": 74,
      "outputs": [
        {
          "output_type": "stream",
          "name": "stdout",
          "text": [
            "['orange', 'mango', 'banana', 'grapes', 'papaya', 'apple']\n"
          ]
        }
      ]
    },
    {
      "cell_type": "markdown",
      "source": [
        "remove function"
      ],
      "metadata": {
        "id": "SZx_boQKoDXw"
      }
    },
    {
      "cell_type": "code",
      "source": [
        "fruit=[\"orange\",\"mango\",\"banana\",\"papaya\",\"apple\"]\n",
        "fruit.remove(\"banana\")#to remove a something from the list\n",
        "print(fruit)\n"
      ],
      "metadata": {
        "colab": {
          "base_uri": "https://localhost:8080/"
        },
        "id": "rqEhywfOoHTH",
        "outputId": "45ddd9ab-2afb-4889-8d41-c540e474ea3a"
      },
      "execution_count": 75,
      "outputs": [
        {
          "output_type": "stream",
          "name": "stdout",
          "text": [
            "['orange', 'mango', 'papaya', 'apple']\n"
          ]
        }
      ]
    },
    {
      "cell_type": "markdown",
      "source": [
        "reverse function"
      ],
      "metadata": {
        "id": "5XGEdgI1l7Nv"
      }
    },
    {
      "cell_type": "code",
      "source": [
        "fruit=[\"orange\",\"mango\",\"banana\",\"papaya\",\"apple\"]\n",
        "print(fruit)\n",
        "fruit.reverse()\n",
        "print(fruit)"
      ],
      "metadata": {
        "colab": {
          "base_uri": "https://localhost:8080/"
        },
        "id": "tvlKvyfTloLQ",
        "outputId": "57d348c6-4549-4fa6-9bfe-6a4759899d55"
      },
      "execution_count": 64,
      "outputs": [
        {
          "output_type": "stream",
          "name": "stdout",
          "text": [
            "['orange', 'mango', 'banana', 'papaya', 'apple']\n",
            "['apple', 'papaya', 'banana', 'mango', 'orange']\n"
          ]
        }
      ]
    },
    {
      "cell_type": "markdown",
      "source": [
        "LENGTH OF THE LIST"
      ],
      "metadata": {
        "id": "nA-lEWv0nHCC"
      }
    },
    {
      "cell_type": "code",
      "source": [
        "fruit=[\"orange\",\"mango\",\"banana\",\"papaya\",\"apple\"]\n",
        "print(len(fruit))"
      ],
      "metadata": {
        "colab": {
          "base_uri": "https://localhost:8080/"
        },
        "id": "U1gn-Ig2nLkH",
        "outputId": "f7352c83-7e84-478e-ec77-ce6668d93d52"
      },
      "execution_count": 70,
      "outputs": [
        {
          "output_type": "stream",
          "name": "stdout",
          "text": [
            "5\n"
          ]
        }
      ]
    },
    {
      "cell_type": "markdown",
      "source": [
        "extend list function"
      ],
      "metadata": {
        "id": "17rQSPt7mAyn"
      }
    },
    {
      "cell_type": "code",
      "source": [
        "thislist = [\"apple\", \"banana\", \"cherry\"]\n",
        "thistuple = [\"kiwi\", \"orange\",\"apple\"]\n",
        "thislist.extend(thistuple)\n",
        "print(thislist)"
      ],
      "metadata": {
        "colab": {
          "base_uri": "https://localhost:8080/"
        },
        "id": "PoDI8dRde2bo",
        "outputId": "8f16be95-87cb-4be8-a221-7a7bbe4e6c42"
      },
      "execution_count": 51,
      "outputs": [
        {
          "output_type": "stream",
          "name": "stdout",
          "text": [
            "['apple', 'banana', 'cherry', 'kiwi', 'orange', 'apple']\n"
          ]
        },
        {
          "output_type": "execute_result",
          "data": {
            "text/plain": [
              "<function list.clear>"
            ]
          },
          "metadata": {},
          "execution_count": 51
        }
      ]
    },
    {
      "cell_type": "markdown",
      "source": [
        "pop function"
      ],
      "metadata": {
        "id": "bJBTsMYjoaKY"
      }
    },
    {
      "cell_type": "code",
      "source": [
        "veg=[\"tamato\",\"orange\"]\n",
        "veg.pop(1)\n",
        "print(veg)"
      ],
      "metadata": {
        "colab": {
          "base_uri": "https://localhost:8080/"
        },
        "id": "ZwVMbAGroZzw",
        "outputId": "896dc053-16fc-448b-f380-910e073cdbe5"
      },
      "execution_count": 77,
      "outputs": [
        {
          "output_type": "stream",
          "name": "stdout",
          "text": [
            "['tamato']\n"
          ]
        }
      ]
    },
    {
      "cell_type": "markdown",
      "source": [
        "delete function"
      ],
      "metadata": {
        "id": "5o0z3CpRo0KT"
      }
    },
    {
      "cell_type": "code",
      "source": [
        "fruit=[\"orange\",\"mango\",\"banana\",\"papaya\",\"apple\"]\n",
        "del fruit[1]\n",
        "print(fruit)\n",
        "del fruit \n",
        "print(fruit)"
      ],
      "metadata": {
        "colab": {
          "base_uri": "https://localhost:8080/",
          "height": 226
        },
        "id": "DoEofaKMoz3Q",
        "outputId": "7711f827-38f3-4472-f8a9-ca19599e13a9"
      },
      "execution_count": 80,
      "outputs": [
        {
          "output_type": "stream",
          "name": "stdout",
          "text": [
            "['orange', 'banana', 'papaya', 'apple']\n"
          ]
        },
        {
          "output_type": "error",
          "ename": "NameError",
          "evalue": "ignored",
          "traceback": [
            "\u001b[0;31m---------------------------------------------------------------------------\u001b[0m",
            "\u001b[0;31mNameError\u001b[0m                                 Traceback (most recent call last)",
            "\u001b[0;32m<ipython-input-80-231f81d84237>\u001b[0m in \u001b[0;36m<module>\u001b[0;34m()\u001b[0m\n\u001b[1;32m      3\u001b[0m \u001b[0mprint\u001b[0m\u001b[0;34m(\u001b[0m\u001b[0mfruit\u001b[0m\u001b[0;34m)\u001b[0m\u001b[0;34m\u001b[0m\u001b[0;34m\u001b[0m\u001b[0m\n\u001b[1;32m      4\u001b[0m \u001b[0;32mdel\u001b[0m \u001b[0mfruit\u001b[0m\u001b[0;34m\u001b[0m\u001b[0;34m\u001b[0m\u001b[0m\n\u001b[0;32m----> 5\u001b[0;31m \u001b[0mprint\u001b[0m\u001b[0;34m(\u001b[0m\u001b[0mfruit\u001b[0m\u001b[0;34m)\u001b[0m\u001b[0;34m\u001b[0m\u001b[0;34m\u001b[0m\u001b[0m\n\u001b[0m",
            "\u001b[0;31mNameError\u001b[0m: name 'fruit' is not defined"
          ]
        }
      ]
    },
    {
      "cell_type": "markdown",
      "source": [
        ""
      ],
      "metadata": {
        "id": "YKX38zjapTEi"
      }
    },
    {
      "cell_type": "code",
      "source": [
        "fruit=[\"orange\",\"mango\",\"banana\",\"papaya\",\"apple\"]\n",
        "fruit.clear()\n",
        "print(fruit)"
      ],
      "metadata": {
        "colab": {
          "base_uri": "https://localhost:8080/"
        },
        "id": "0BjNqbLqpSuZ",
        "outputId": "0ab84b13-c170-4577-84c0-d8b97e673cde"
      },
      "execution_count": 81,
      "outputs": [
        {
          "output_type": "stream",
          "name": "stdout",
          "text": [
            "[]\n"
          ]
        }
      ]
    },
    {
      "cell_type": "markdown",
      "source": [
        "sort given numbers (asending order)"
      ],
      "metadata": {
        "id": "P3zy-CpgmLJP"
      }
    },
    {
      "cell_type": "code",
      "source": [
        "num = [100, 50, 65, 82, 23]\n",
        "num.sort()\n",
        "print(num)"
      ],
      "metadata": {
        "colab": {
          "base_uri": "https://localhost:8080/"
        },
        "id": "2DKkrxwIh0vI",
        "outputId": "5441a6f4-4896-4825-dfee-5671df3d9817"
      },
      "execution_count": 65,
      "outputs": [
        {
          "output_type": "stream",
          "name": "stdout",
          "text": [
            "[23, 50, 65, 82, 100]\n"
          ]
        }
      ]
    },
    {
      "cell_type": "markdown",
      "source": [
        " sort according to alphabets"
      ],
      "metadata": {
        "id": "rgQrVrHkmavI"
      }
    },
    {
      "cell_type": "code",
      "source": [
        "thislist = [\"orange\", \"mango\", \"kiwi\", \"pineapple\", \"banana\"]\n",
        "thislist.sort()\n",
        "print(thislist)"
      ],
      "metadata": {
        "colab": {
          "base_uri": "https://localhost:8080/"
        },
        "id": "BVCmP6Fwmdw-",
        "outputId": "ee9ec07b-4db0-4313-d762-35436382d2f9"
      },
      "execution_count": 67,
      "outputs": [
        {
          "output_type": "stream",
          "name": "stdout",
          "text": [
            "['banana', 'kiwi', 'mango', 'orange', 'pineapple']\n"
          ]
        }
      ]
    },
    {
      "cell_type": "markdown",
      "source": [
        "(desending order)"
      ],
      "metadata": {
        "id": "FM_ki0o9mxNA"
      }
    },
    {
      "cell_type": "code",
      "source": [
        "num = [100, 50, 65, 82, 23]\n",
        "num.sort(reverse=True)\n",
        "print(num)"
      ],
      "metadata": {
        "colab": {
          "base_uri": "https://localhost:8080/"
        },
        "id": "MsXxYL4pmpHn",
        "outputId": "4022f078-ac5e-496b-df56-79a7c4b20c3d"
      },
      "execution_count": 68,
      "outputs": [
        {
          "output_type": "stream",
          "name": "stdout",
          "text": [
            "[100, 82, 65, 50, 23]\n"
          ]
        }
      ]
    },
    {
      "cell_type": "markdown",
      "source": [
        "small letters and capital letters"
      ],
      "metadata": {
        "id": "d4166dmqm3NQ"
      }
    },
    {
      "cell_type": "code",
      "source": [
        "thislist = [\"Orange\", \"mango\", \"kiwi\", \"pineapple\", \"Banana\"]\n",
        "thislist.sort()\n",
        "print(thislist)"
      ],
      "metadata": {
        "colab": {
          "base_uri": "https://localhost:8080/"
        },
        "id": "R8J6zQBNm1sI",
        "outputId": "c136f92e-1b77-44a5-f14b-084f166fb77f"
      },
      "execution_count": 69,
      "outputs": [
        {
          "output_type": "stream",
          "name": "stdout",
          "text": [
            "['Banana', 'Orange', 'kiwi', 'mango', 'pineapple']\n"
          ]
        }
      ]
    }
  ]
}