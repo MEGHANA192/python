{
  "nbformat": 4,
  "nbformat_minor": 0,
  "metadata": {
    "colab": {
      "name": "module 2",
      "provenance": [],
      "collapsed_sections": [],
      "include_colab_link": true
    },
    "kernelspec": {
      "name": "python3",
      "display_name": "Python 3"
    },
    "language_info": {
      "name": "python"
    }
  },
  "cells": [
    {
      "cell_type": "markdown",
      "metadata": {
        "id": "view-in-github",
        "colab_type": "text"
      },
      "source": [
        "<a href=\"https://colab.research.google.com/github/MEGHANA192/python/blob/main/module_2.ipynb\" target=\"_parent\"><img src=\"https://colab.research.google.com/assets/colab-badge.svg\" alt=\"Open In Colab\"/></a>"
      ]
    },
    {
      "cell_type": "markdown",
      "source": [
        "1) PROGRAM TO PRINT THE nCr value of given n and r"
      ],
      "metadata": {
        "id": "-4yKdQBD0X4z"
      }
    },
    {
      "cell_type": "code",
      "execution_count": null,
      "metadata": {
        "colab": {
          "base_uri": "https://localhost:8080/"
        },
        "id": "jKdEkin5y7Pu",
        "outputId": "b1eb590f-3c6e-46dc-aba4-56dd3c3a61b3"
      },
      "outputs": [
        {
          "output_type": "stream",
          "name": "stdout",
          "text": [
            "enter the value of n 5\n",
            "note:n must be greater than r \n",
            "enter the value of r 3\n",
            "your answer is  \n",
            "10\n"
          ]
        }
      ],
      "source": [
        "def nCr(n,r):\n",
        " return(fact(n)/(fact(r)\n",
        " *fact(n-r)))\n",
        "n=int(input(\"enter the value of n \"))\n",
        "print(\"note:n must be greater than r \")\n",
        "r=int(input(\"enter the value of r \"))\n",
        "def fact(n):\n",
        " a=1\n",
        " for i in range(2,n+1):\n",
        "     a=a*i\n",
        " return a\n",
        "print(\"your answer is  \")\n",
        "print(int(nCr(n,r)))"
      ]
    },
    {
      "cell_type": "markdown",
      "source": [
        "2) Recursive function to compute GCD of 2 numbers"
      ],
      "metadata": {
        "id": "InsTVgFCvYLH"
      }
    },
    {
      "cell_type": "code",
      "source": [
        "def GCD(a,b):\n",
        "  if a==b:\n",
        "    return a\n",
        "  elif a<b:\n",
        "    return GCD(b,a)\n",
        "  else:\n",
        "      return GCD(b,a-b)\n",
        "a=int(input(\"Enter a number:\"))\n",
        "b=int(input(\"Enter a number:\"))\n",
        "print(GCD(a,b))\n"
      ],
      "metadata": {
        "colab": {
          "base_uri": "https://localhost:8080/"
        },
        "id": "4mpEb_r3vbdy",
        "outputId": "f4823182-ab25-48f0-dc55-89808fd6adad"
      },
      "execution_count": 2,
      "outputs": [
        {
          "output_type": "stream",
          "name": "stdout",
          "text": [
            "Enter a number:5\n",
            "Enter a number:3\n",
            "1\n"
          ]
        }
      ]
    },
    {
      "cell_type": "markdown",
      "source": [
        "3) ecursive function to find product of two numbers"
      ],
      "metadata": {
        "id": "eC2GCKi_v0VX"
      }
    },
    {
      "cell_type": "code",
      "source": [
        "def prod(d,c):\n",
        "  if d<c:\n",
        "    return prod(c,d)\n",
        "  elif c!=0:\n",
        "    return (d+prod(d,c-1))\n",
        "  else:\n",
        "    return 0\n",
        "d=int(input(\"Enter a number:\"))\n",
        "c=int(input(\"Enter a number:\"))\n",
        "print(\"The product of a and b is:\")\n",
        "print(prod(d,c))\n"
      ],
      "metadata": {
        "colab": {
          "base_uri": "https://localhost:8080/"
        },
        "id": "MsR9cEIpv-1h",
        "outputId": "4c2b8bda-d3fc-4a55-ca47-dd84392d9823"
      },
      "execution_count": 4,
      "outputs": [
        {
          "output_type": "stream",
          "name": "stdout",
          "text": [
            "Enter a number:5\n",
            "Enter a number:4\n",
            "The product of a and b is:\n",
            "20\n"
          ]
        }
      ]
    },
    {
      "cell_type": "markdown",
      "source": [
        "4) Recursive function to generate Fibonacci series\n"
      ],
      "metadata": {
        "id": "eYPuamMwwhdZ"
      }
    },
    {
      "cell_type": "code",
      "source": [
        "def fibomeghana(a):\n",
        "  if a<=1:\n",
        "    return a\n",
        "  else:\n",
        "    return(fibomeghana(a-1)+fibomeghana(a-2))\n",
        "a=int(input(\"Enter a number:\"))\n",
        "print(\"The fibonacci sequence of entered number is:\")\n",
        "for i in range(a):\n",
        "  print(i)\n",
        "print(fibomeghana(a))\n"
      ],
      "metadata": {
        "colab": {
          "base_uri": "https://localhost:8080/"
        },
        "id": "fnHpqIQLwkKE",
        "outputId": "ed76997a-7b46-44ea-dfac-5068665e70c8"
      },
      "execution_count": 8,
      "outputs": [
        {
          "output_type": "stream",
          "name": "stdout",
          "text": [
            "Enter a number:5\n",
            "The fibonacci sequence of entered number is:\n",
            "0\n",
            "1\n",
            "2\n",
            "3\n",
            "4\n",
            "5\n"
          ]
        }
      ]
    },
    {
      "cell_type": "markdown",
      "source": [
        "5) Program to print a specified list after removing the 0th, 4th and 5th elements.\n",
        "\n",
        "Sample List : ['Red', 'Green', 'White', 'Black', 'Pink', 'Yellow']\n",
        "\n",
        "Expected Output : ['Green', 'White', 'Black']\n"
      ],
      "metadata": {
        "id": "KyWnMFde1eyG"
      }
    },
    {
      "cell_type": "code",
      "source": [
        "def meghana():\n",
        "  a=[\"red\",\"green\",\"white\",\"black\",\"pink\",\"yellow\"]\n",
        "  print(a[1:4])\n",
        "meghana()\n"
      ],
      "metadata": {
        "colab": {
          "base_uri": "https://localhost:8080/"
        },
        "id": "SHTlbyUdz50P",
        "outputId": "e9019643-f2fb-4aea-b9ef-73cec53e97e4"
      },
      "execution_count": null,
      "outputs": [
        {
          "output_type": "stream",
          "name": "stdout",
          "text": [
            "['green', 'white', 'black']\n"
          ]
        }
      ]
    },
    {
      "cell_type": "markdown",
      "source": [
        "6) Program to get the difference between the two lists."
      ],
      "metadata": {
        "id": "Jg-4aWo22kMe"
      }
    },
    {
      "cell_type": "code",
      "source": [
        "def dhoni():\n",
        "  meghana=[\"banana\",\"apple\",\"mango\"]\n",
        "  maggi=[\"apple\",\"kiwi\",\"papaya\"]\n",
        "  a=set(meghana)\n",
        "  b=set(maggi)\n",
        "  c=a.symmetric_difference(b)\n",
        "  d=list(c)\n",
        "  print(d)\n",
        "dhoni()"
      ],
      "metadata": {
        "colab": {
          "base_uri": "https://localhost:8080/"
        },
        "id": "aBRKZPV42fHq",
        "outputId": "8b86d55e-e3f0-4d8d-a3e9-1aa54e25b0f9"
      },
      "execution_count": null,
      "outputs": [
        {
          "output_type": "stream",
          "name": "stdout",
          "text": [
            "<class 'list'>\n",
            "<class 'list'>\n",
            "['kiwi', 'banana', 'mango', 'papaya']\n"
          ]
        }
      ]
    },
    {
      "cell_type": "markdown",
      "source": [
        "7) Program to find the second smallest number and second largest number in a list."
      ],
      "metadata": {
        "id": "qVX-AHdA4N0D"
      }
    },
    {
      "cell_type": "code",
      "source": [
        "def dhoni():\n",
        "  meghana=[1,3,5,43,0]\n",
        "  print(meghana)\n",
        "  meghana.sort()\n",
        "  print(\"after sorting the list that is  in ascending order is\")\n",
        "  print(meghana)\n",
        "  print(\"the second smallest number is \")\n",
        "  print(meghana[1])\n",
        "  print(\"the second largest number is  \")\n",
        "  print(meghana[-2])\n",
        "dhoni()\n"
      ],
      "metadata": {
        "colab": {
          "base_uri": "https://localhost:8080/"
        },
        "id": "L-zvnG3o4BeU",
        "outputId": "1594149a-4f71-4275-f41b-7efbd715490e"
      },
      "execution_count": 19,
      "outputs": [
        {
          "output_type": "stream",
          "name": "stdout",
          "text": [
            "[1, 3, 5, 43, 0]\n",
            "after sorting the list that is  in ascending order is\n",
            "[0, 1, 3, 5, 43]\n",
            "the second smallest number is \n",
            "1\n",
            "the second largest number is  \n",
            "5\n"
          ]
        }
      ]
    },
    {
      "cell_type": "markdown",
      "source": [
        "8) Given a list of numbers of list, write a Python program to create a list of tuples having first element as the number and second element as the square of the number."
      ],
      "metadata": {
        "id": "JuBnk1xL6UgC"
      }
    },
    {
      "cell_type": "code",
      "source": [
        "def dhoni():\n",
        "  meghana=[2,4,6,8,10]\n",
        "  print(\"the give list is \",meghana)\n",
        "  print(\"your result is\")\n",
        "  for x in meghana:\n",
        "    result=(x,pow(x,2))\n",
        "\n",
        "    print(result)\n",
        "dhoni()"
      ],
      "metadata": {
        "colab": {
          "base_uri": "https://localhost:8080/"
        },
        "id": "Rx2_ZKAK6MMg",
        "outputId": "440c662c-83dd-4f60-fba9-46817615e899"
      },
      "execution_count": null,
      "outputs": [
        {
          "output_type": "stream",
          "name": "stdout",
          "text": [
            "the give list is  [2, 4, 6, 8, 10]\n",
            "your result is\n",
            "(2, 4)\n",
            "(4, 16)\n",
            "(6, 36)\n",
            "(8, 64)\n",
            "(10, 100)\n"
          ]
        }
      ]
    },
    {
      "cell_type": "markdown",
      "source": [
        "9) Given list of tuples, remove all the tuples with length K.\n",
        "\n",
        "Input : test_list = [(4, 5), (4, ), (8, 6, 7), (1, ), (3, 4, 6, 7)], K = 2\n",
        "\n",
        "Output : [(4, ), (8, 6, 7), (1, ), (3, 4, 6, 7)]\n",
        "\n",
        "Explanation : (4, 5) of len = 2 is removed.\n"
      ],
      "metadata": {
        "id": "DWTw3qAvBQXD"
      }
    },
    {
      "cell_type": "code",
      "source": [
        "meghana=[(2,3),(4,5,7),(6,7),(1,),(2,3,4,5),(2,4)]\n",
        "k=2\n",
        "for x in meghana:\n",
        "  if(len(x)==k):\n",
        "    meghana.remove(x)\n",
        "print(meghana)\n"
      ],
      "metadata": {
        "colab": {
          "base_uri": "https://localhost:8080/"
        },
        "id": "fRUU7Yhe9sak",
        "outputId": "9754e09a-8d8a-45bd-f4a5-9f24afa1eade"
      },
      "execution_count": null,
      "outputs": [
        {
          "output_type": "stream",
          "name": "stdout",
          "text": [
            "[(4, 5, 7), (1,), (2, 3, 4, 5)]\n"
          ]
        }
      ]
    },
    {
      "cell_type": "markdown",
      "source": [
        "10) Program to generate and print a dictionary that contains a number\n",
        " (between 1\n",
        "and n)\n",
        " in the form (x, x*x).\n",
        "\n",
        "sample Input: (n=5) :\n",
        "\n",
        "Expected Output : {1: 1, 2: 4, 3: 9, 4: 16, 5: 25}"
      ],
      "metadata": {
        "id": "jk4b0WytKqTd"
      }
    },
    {
      "cell_type": "code",
      "source": [
        "a=int(input(\"enter a number:\"))\n",
        "meghana=dict()\n",
        "for num in range(1,a+1):\n",
        " meghana[num]=num*num\n",
        "print(\"the generated elements are:\")\n",
        "print(meghana)\n"
      ],
      "metadata": {
        "colab": {
          "base_uri": "https://localhost:8080/"
        },
        "id": "GYcB6sU6CN0Z",
        "outputId": "6e7c587c-b737-4b27-a7cc-2119e4863b2b"
      },
      "execution_count": null,
      "outputs": [
        {
          "output_type": "stream",
          "name": "stdout",
          "text": [
            "enter a number:5\n",
            "the generated elements are:\n",
            "{1: 1, 2: 4, 3: 9, 4: 16, 5: 25}\n"
          ]
        }
      ]
    },
    {
      "cell_type": "markdown",
      "source": [
        "10) a )  with function"
      ],
      "metadata": {
        "id": "MnApd0LxMICn"
      }
    },
    {
      "cell_type": "code",
      "source": [
        "def dhoni():\n",
        "  a=int(input(\"enter a number:\"))\n",
        "  meghana=dict()\n",
        "  for x in range(1,a+1):\n",
        "    meghana[x]=x*x\n",
        "    print(\"the generated elements are:\")\n",
        "    print(meghana)\n",
        "dhoni()"
      ],
      "metadata": {
        "colab": {
          "base_uri": "https://localhost:8080/"
        },
        "id": "XMigxEJMKJ0E",
        "outputId": "65d85cb3-282f-4694-e96d-c9c2e4fe47ee"
      },
      "execution_count": 1,
      "outputs": [
        {
          "output_type": "stream",
          "name": "stdout",
          "text": [
            "enter a number:4\n",
            "the generated elements are:\n",
            "{1: 1}\n",
            "the generated elements are:\n",
            "{1: 1, 2: 4}\n",
            "the generated elements are:\n",
            "{1: 1, 2: 4, 3: 9}\n",
            "the generated elements are:\n",
            "{1: 1, 2: 4, 3: 9, 4: 16}\n"
          ]
        }
      ]
    },
    {
      "cell_type": "markdown",
      "source": [
        "11) Program to remove a key from a dictionary"
      ],
      "metadata": {
        "id": "0JGI_d4hK7KH"
      }
    },
    {
      "cell_type": "code",
      "source": [
        "\n",
        "meghana={\"age\" : 18,\n",
        "        \"name\" : \"meghana\",\n",
        "        \"year\" : 2004,\n",
        "        \"course\" : \"CSEN\"\n",
        "}\n",
        "meghana.pop(\"course\")\n",
        "print(meghana)\n",
        "\n"
      ],
      "metadata": {
        "colab": {
          "base_uri": "https://localhost:8080/"
        },
        "id": "NgR58CbEM6KZ",
        "outputId": "237f764e-1a96-4021-9be8-99858d752226"
      },
      "execution_count": null,
      "outputs": [
        {
          "output_type": "stream",
          "name": "stdout",
          "text": [
            "{'age': 18, 'name': 'meghana', 'year': 2004}\n"
          ]
        }
      ]
    },
    {
      "cell_type": "markdown",
      "source": [
        "12) Program to get the maximum and minimum value in a dictionary"
      ],
      "metadata": {
        "id": "6ZmKaaLrSS6F"
      }
    },
    {
      "cell_type": "code",
      "source": [
        "meghana={\n",
        "\"maths\":91,\n",
        "\"chemistry\":71,\n",
        "\"english\":87,\n",
        "\"physics\":56,\n",
        "\"python\":90\n",
        "}\n",
        "maxim=max(meghana,key=meghana.get)\n",
        "minim=min(meghana,key=meghana.get)\n",
        "print(maxim,meghana[maxim])\n",
        "print(minim,meghana[minim])"
      ],
      "metadata": {
        "id": "ROWbLeHMSIfz",
        "colab": {
          "base_uri": "https://localhost:8080/"
        },
        "outputId": "d269f628-e06d-4866-d0d2-337e580ea30a"
      },
      "execution_count": 9,
      "outputs": [
        {
          "output_type": "stream",
          "name": "stdout",
          "text": [
            "maths 91\n",
            "physics 56\n"
          ]
        }
      ]
    },
    {
      "cell_type": "markdown",
      "source": [
        "13) Program for Counting occurrence of a certain element in a string, getting indexes that\n",
        "have matching elements.For ex -.In Rabbit count how many times b has occurred .\n",
        "\n",
        "Example-I have to go to a doctor and get myself checked.\n",
        "\n",
        " Count the number of\n",
        "occurrences of \"to\"."
      ],
      "metadata": {
        "id": "SQlwptuzzN6r"
      }
    },
    {
      "cell_type": "code",
      "source": [
        "meghana=\"first,i have to go to the super market to get some groceries and then to the shopping mall to buy some clothes \"\n",
        "print(meghana.count(\"to\"))\n"
      ],
      "metadata": {
        "colab": {
          "base_uri": "https://localhost:8080/"
        },
        "id": "vjOev8HQzPho",
        "outputId": "1daa75c4-2208-469e-9bca-9192c7c71046"
      },
      "execution_count": 10,
      "outputs": [
        {
          "output_type": "stream",
          "name": "stdout",
          "text": [
            "5\n"
          ]
        }
      ]
    },
    {
      "cell_type": "markdown",
      "source": [
        "14) Program for replacing one substring by another\n",
        "\n",
        " For example - Rabbit - Replace \"bb\" by\n",
        "\"cc\""
      ],
      "metadata": {
        "id": "dN9P-gLU1xRs"
      }
    },
    {
      "cell_type": "code",
      "source": [
        "meghana=\"apple\"\n",
        "print(meghana)\n",
        "meghana1=meghana.replace('pp','nk')\n",
        "print(\"the word after replacing is\")\n",
        "print(meghana1)\n"
      ],
      "metadata": {
        "colab": {
          "base_uri": "https://localhost:8080/"
        },
        "id": "Ywfmsajb1rBG",
        "outputId": "c5e2843b-7afd-4801-e390-a867f4ad0c32"
      },
      "execution_count": 12,
      "outputs": [
        {
          "output_type": "stream",
          "name": "stdout",
          "text": [
            "apple\n",
            "the word after replacing is\n",
            "ankle\n"
          ]
        }
      ]
    },
    {
      "cell_type": "markdown",
      "source": [
        "15) Program to Acronym generator for any user input \n",
        "\n",
        "(ex-input is Random memory access\n",
        "then output should be RMA).\n",
        "\n",
        "Example - Random number (RN)"
      ],
      "metadata": {
        "id": "skVfhuw42p9U"
      }
    },
    {
      "cell_type": "code",
      "source": [
        "meghana=input(\"enter a phrase:\")\n",
        "phrase=meghana.split()\n",
        "acronym=\"\"\n",
        "for word in phrase:\n",
        "  acronym=acronym+word[0].upper()\n",
        "print(f'Acronym of {meghana} is {acronym}')\n"
      ],
      "metadata": {
        "colab": {
          "base_uri": "https://localhost:8080/"
        },
        "id": "4QzQblcd2WcA",
        "outputId": "8510e16a-f552-4515-bc76-49cbb1364bd8"
      },
      "execution_count": 15,
      "outputs": [
        {
          "output_type": "stream",
          "name": "stdout",
          "text": [
            "enter a phrase:random access memory\n",
            "Acronym of random access memory is RAM\n"
          ]
        }
      ]
    },
    {
      "cell_type": "markdown",
      "source": [
        "16) Python function that accepts a string and calculates the number of uppercase\n",
        "letters and lowercase letters.\n"
      ],
      "metadata": {
        "id": "Guf5q4HD3akt"
      }
    },
    {
      "cell_type": "code",
      "source": [
        "meghana=\"My name iS Meghana And i am from VIZAG\"\n",
        "ucase=0\n",
        "lcase=0\n",
        "for i in meghana:\n",
        "  if i.isupper():\n",
        "    ucase+=1\n",
        "  elif i.islower():\n",
        "    lcase+=1\n",
        "  else:\n",
        "    pass\n",
        "print(\"uppercase alphabets are:\", ucase)\n",
        "print(\"lowercase alphabets are:\", lcase)"
      ],
      "metadata": {
        "colab": {
          "base_uri": "https://localhost:8080/"
        },
        "id": "Nr_RD8Zk26r4",
        "outputId": "326fa99b-29bc-415c-acb2-58b06272c738"
      },
      "execution_count": 20,
      "outputs": [
        {
          "output_type": "stream",
          "name": "stdout",
          "text": [
            "uppercase alphabets are: 9\n",
            "lowercase alphabets are: 21\n"
          ]
        }
      ]
    },
    {
      "cell_type": "markdown",
      "source": [
        "17) Program to count the number of strings where the string length is 2 or more and\n",
        "the first and last character are same from a given list of strings\n",
        "x \n",
        "\n",
        "Sample List : ['abc', 'xyz', 'aba', '1221'] Expected Result : 2"
      ],
      "metadata": {
        "id": "uSZc5oUm4q1Z"
      }
    },
    {
      "cell_type": "code",
      "source": [
        "meghana=[\"abc\", \"xyz\", \"aba\", \"1221\"]\n",
        "count=0\n",
        "for i in meghana:\n",
        "  if len(i)>=2:\n",
        "    if i[0]==i[len(i)-1]:\n",
        "      print(i)\n",
        "      count+=1\n",
        "print(count)\n"
      ],
      "metadata": {
        "colab": {
          "base_uri": "https://localhost:8080/"
        },
        "id": "i2knr9GN4ibI",
        "outputId": "c4ae734e-8f37-4cb9-d776-a02ac9efa071"
      },
      "execution_count": 18,
      "outputs": [
        {
          "output_type": "stream",
          "name": "stdout",
          "text": [
            "aba\n",
            "1221\n",
            "2\n"
          ]
        }
      ]
    }
  ]
}