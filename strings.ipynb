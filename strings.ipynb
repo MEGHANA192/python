{
  "nbformat": 4,
  "nbformat_minor": 0,
  "metadata": {
    "colab": {
      "name": "strings",
      "provenance": [],
      "collapsed_sections": [],
      "authorship_tag": "ABX9TyPP+sA/1SXkvAVhDsfEQmYe",
      "include_colab_link": true
    },
    "kernelspec": {
      "name": "python3",
      "display_name": "Python 3"
    },
    "language_info": {
      "name": "python"
    }
  },
  "cells": [
    {
      "cell_type": "markdown",
      "metadata": {
        "id": "view-in-github",
        "colab_type": "text"
      },
      "source": [
        "<a href=\"https://colab.research.google.com/github/MEGHANA192/python/blob/main/strings.ipynb\" target=\"_parent\"><img src=\"https://colab.research.google.com/assets/colab-badge.svg\" alt=\"Open In Colab\"/></a>"
      ]
    },
    {
      "cell_type": "code",
      "execution_count": 6,
      "metadata": {
        "colab": {
          "base_uri": "https://localhost:8080/"
        },
        "id": "HrLOUy6h60HL",
        "outputId": "155a30a7-40a8-4d47-9a00-cf1947d6116a"
      },
      "outputs": [
        {
          "output_type": "stream",
          "name": "stdout",
          "text": [
            "meghana\n",
            "<class 'str'>\n",
            "m\n"
          ]
        }
      ],
      "source": [
        "a= \"meghana\"\n",
        "print(a)\n",
        "print(type(a))\n",
        "print(a[0])"
      ]
    },
    {
      "cell_type": "code",
      "source": [
        "a= \"vedesh is a bad boy\"\n",
        "print(a)\n",
        "print(type(a))\n",
        "print(a[0])\n",
        "print(len(a))\n",
        "print(a[11:15])"
      ],
      "metadata": {
        "colab": {
          "base_uri": "https://localhost:8080/"
        },
        "id": "5LFAK4u78S7K",
        "outputId": "b3a9f95a-c4b0-496b-cfa2-3b526cab83b2"
      },
      "execution_count": 22,
      "outputs": [
        {
          "output_type": "stream",
          "name": "stdout",
          "text": [
            "vedesh is a bad boy\n",
            "<class 'str'>\n",
            "v\n",
            "19\n",
            " bad\n"
          ]
        }
      ]
    },
    {
      "cell_type": "code",
      "source": [
        "a=\"RRR movie has been released\"\n",
        "print(a[0:12])"
      ],
      "metadata": {
        "colab": {
          "base_uri": "https://localhost:8080/"
        },
        "id": "WylnWZTC8r9p",
        "outputId": "ea2bf08c-776d-460f-dfc5-6ddba790c77a"
      },
      "execution_count": 21,
      "outputs": [
        {
          "output_type": "stream",
          "name": "stdout",
          "text": [
            "RRR movie ha\n"
          ]
        }
      ]
    }
  ]
}