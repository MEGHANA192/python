{
  "nbformat": 4,
  "nbformat_minor": 0,
  "metadata": {
    "colab": {
      "name": "ASSIGNMENT 1  S J MEGHANA  VU21CSEN0101487",
      "provenance": [],
      "authorship_tag": "ABX9TyMA3W1laKeIzShXhZMS+bdy",
      "include_colab_link": true
    },
    "kernelspec": {
      "name": "python3",
      "display_name": "Python 3"
    },
    "language_info": {
      "name": "python"
    }
  },
  "cells": [
    {
      "cell_type": "markdown",
      "metadata": {
        "id": "view-in-github",
        "colab_type": "text"
      },
      "source": [
        "<a href=\"https://colab.research.google.com/github/MEGHANA192/python/blob/main/ASSIGNMENT_1_S_J_MEGHANA_VU21CSEN0101487.ipynb\" target=\"_parent\"><img src=\"https://colab.research.google.com/assets/colab-badge.svg\" alt=\"Open In Colab\"/></a>"
      ]
    },
    {
      "cell_type": "markdown",
      "source": [
        "## LISTS"
      ],
      "metadata": {
        "id": "ZwMfIluR4ylo"
      }
    },
    {
      "cell_type": "markdown",
      "source": [
        "python lists"
      ],
      "metadata": {
        "id": "Y0NU-hU4-EJ1"
      }
    },
    {
      "cell_type": "markdown",
      "source": [
        "CREATE A LIST"
      ],
      "metadata": {
        "id": "fpMTY-cy5BOQ"
      }
    },
    {
      "cell_type": "code",
      "execution_count": 2,
      "metadata": {
        "colab": {
          "base_uri": "https://localhost:8080/"
        },
        "id": "Q2iANnNG3xD6",
        "outputId": "e8ff594e-2016-4136-a9b7-cd9c308f271b"
      },
      "outputs": [
        {
          "output_type": "stream",
          "name": "stdout",
          "text": [
            "['apple', 'orange', 'papaya']\n"
          ]
        }
      ],
      "source": [
        "meghana=[\"apple\",\"orange\",\"papaya\"]\n",
        "print(meghana)"
      ]
    },
    {
      "cell_type": "markdown",
      "source": [
        "list with duplicates"
      ],
      "metadata": {
        "id": "zy3xP4Sg5wLV"
      }
    },
    {
      "cell_type": "code",
      "source": [
        "meghana=[\"apple\",\"fruit\",\"orange\",\"papaya\",\"fruit\"]\n",
        "print(meghana)"
      ],
      "metadata": {
        "colab": {
          "base_uri": "https://localhost:8080/"
        },
        "id": "69yUgdPm545R",
        "outputId": "da2f734f-8860-48b4-f1d0-71d16c876f93"
      },
      "execution_count": 4,
      "outputs": [
        {
          "output_type": "stream",
          "name": "stdout",
          "text": [
            "['apple', 'fruit', 'orange', 'papaya', 'fruit']\n"
          ]
        }
      ]
    },
    {
      "cell_type": "markdown",
      "source": [
        "length of the list"
      ],
      "metadata": {
        "id": "0LTRP25e6P0Z"
      }
    },
    {
      "cell_type": "code",
      "source": [
        "meghana=[\"apple\",\"fruit\",\"orange\",\"papaya\"]\n",
        "print(meghana)\n",
        "print(len(meghana))"
      ],
      "metadata": {
        "colab": {
          "base_uri": "https://localhost:8080/"
        },
        "id": "aHFR2aWh6Kc1",
        "outputId": "d6c0222f-8a76-4752-8508-733189193b69"
      },
      "execution_count": 6,
      "outputs": [
        {
          "output_type": "stream",
          "name": "stdout",
          "text": [
            "['apple', 'fruit', 'orange', 'papaya']\n",
            "4\n"
          ]
        }
      ]
    },
    {
      "cell_type": "markdown",
      "source": [
        "lists data types\n"
      ],
      "metadata": {
        "id": "e2HUjGKj6cWD"
      }
    },
    {
      "cell_type": "code",
      "source": [
        "meghana1 = [\"apple\",\"fruit\",\"orange\",\"papaya\"]#STRING\n",
        "meghana2 = [1, 3, 4, 5, 2]#INT\n",
        "meghana3 = [True, False,True]#BOOLEAN\n",
        "print(meghana1)\n",
        "print(type(meghana1))\n",
        "print(meghana2)\n",
        "print(type(meghana2))\n",
        "print(meghana3)\n",
        "print(type(meghana3))"
      ],
      "metadata": {
        "colab": {
          "base_uri": "https://localhost:8080/"
        },
        "id": "5mTub-cB62X8",
        "outputId": "e67c6cf8-b9c1-4123-9422-02c0a90831c7"
      },
      "execution_count": 9,
      "outputs": [
        {
          "output_type": "stream",
          "name": "stdout",
          "text": [
            "['apple', 'fruit', 'orange', 'papaya']\n",
            "<class 'list'>\n",
            "[1, 3, 4, 5, 2]\n",
            "<class 'list'>\n",
            "[True, False, False]\n",
            "<class 'list'>\n"
          ]
        }
      ]
    },
    {
      "cell_type": "markdown",
      "source": [
        "A list with strings, integers and boolean values:"
      ],
      "metadata": {
        "id": "R6xl_lJa75aM"
      }
    },
    {
      "cell_type": "code",
      "source": [
        "meghana=[123,\"puppy\",True,65,\"NAME\", False,30]\n",
        "print(meghana)"
      ],
      "metadata": {
        "colab": {
          "base_uri": "https://localhost:8080/"
        },
        "id": "rRPM6ISR8AKA",
        "outputId": "12d4d705-1da7-4e86-819c-69270cba9582"
      },
      "execution_count": 10,
      "outputs": [
        {
          "output_type": "stream",
          "name": "stdout",
          "text": [
            "[123, 'puppy', True, 65, 'NAME', False, 30]\n"
          ]
        }
      ]
    },
    {
      "cell_type": "markdown",
      "source": [
        "list(( \"\")) also mean a string"
      ],
      "metadata": {
        "id": "wWm8e7P883aK"
      }
    },
    {
      "cell_type": "code",
      "source": [
        "meghana=list((\"apple\",\"fruit\",\"orange\",\"papaya\")) # note the double round-brackets\n",
        "print(meghana)"
      ],
      "metadata": {
        "colab": {
          "base_uri": "https://localhost:8080/"
        },
        "id": "5EyZgAjk86xi",
        "outputId": "8b41bfdb-2986-490b-835a-a82524c867d5"
      },
      "execution_count": 17,
      "outputs": [
        {
          "output_type": "stream",
          "name": "stdout",
          "text": [
            "['apple', 'fruit', 'orange', 'papaya']\n"
          ]
        }
      ]
    },
    {
      "cell_type": "markdown",
      "source": [
        "## access list items"
      ],
      "metadata": {
        "id": "FoiCKMor94aU"
      }
    },
    {
      "cell_type": "markdown",
      "source": [
        "List items are indexed and you can access them by referring to the index number:\n"
      ],
      "metadata": {
        "id": "NnWRpSCC99JQ"
      }
    },
    {
      "cell_type": "code",
      "source": [
        "meghana=[\"apple\",\"fruit\",\"orange\",\"papaya\"]\n",
        "print(meghana[3])"
      ],
      "metadata": {
        "colab": {
          "base_uri": "https://localhost:8080/"
        },
        "id": "NFxcJ3PZ93vP",
        "outputId": "9c76cd9e-7cdf-4f6a-be4c-78a2111e6e7b"
      },
      "execution_count": 19,
      "outputs": [
        {
          "output_type": "stream",
          "name": "stdout",
          "text": [
            "papaya\n"
          ]
        }
      ]
    },
    {
      "cell_type": "markdown",
      "source": [
        "Negative Indexing\n",
        "Negative indexing means start from the end"
      ],
      "metadata": {
        "id": "ooaJ5ZN9-ZG2"
      }
    },
    {
      "cell_type": "code",
      "source": [
        "meghana=[\"apple\",\"fruit\",\"orange\",\"papaya\"]\n",
        "print(meghana[-2])"
      ],
      "metadata": {
        "colab": {
          "base_uri": "https://localhost:8080/"
        },
        "id": "XVNeii34-YoG",
        "outputId": "8035854c-dd22-40cf-cf43-9682d026d121"
      },
      "execution_count": 20,
      "outputs": [
        {
          "output_type": "stream",
          "name": "stdout",
          "text": [
            "orange\n"
          ]
        }
      ]
    },
    {
      "cell_type": "markdown",
      "source": [
        "Range of Indexes\n",
        "You can specify a range of indexes by specifying where to start and where to end the range."
      ],
      "metadata": {
        "id": "xMVTpir6-uTY"
      }
    },
    {
      "cell_type": "code",
      "source": [
        "meghana=[\"apple\",\"fruit\",\"orange\",\"papaya\",\"mango\",\"banana\",\"kiwi\"]\n",
        "print(meghana[1:3])\n",
        "print(meghana[:5])\n",
        "print(meghana[4:5])\n",
        "print(meghana[0:4])\n",
        "print(meghana[3:])\n",
        "print(meghana[-4:-1])\n"
      ],
      "metadata": {
        "colab": {
          "base_uri": "https://localhost:8080/"
        },
        "id": "Xsw-4Nqj-tMm",
        "outputId": "3252bbc9-9a05-41dc-f7ae-cd08e3846d93"
      },
      "execution_count": 28,
      "outputs": [
        {
          "output_type": "stream",
          "name": "stdout",
          "text": [
            "['fruit', 'orange']\n",
            "['apple', 'fruit', 'orange', 'papaya', 'mango']\n",
            "['mango']\n",
            "['apple', 'fruit', 'orange', 'papaya']\n",
            "['papaya', 'mango', 'banana', 'kiwi']\n",
            "['papaya', 'mango', 'banana']\n"
          ]
        }
      ]
    },
    {
      "cell_type": "markdown",
      "source": [
        "Check if Item Exists"
      ],
      "metadata": {
        "id": "yi7Hl8IG_H01"
      }
    },
    {
      "cell_type": "code",
      "source": [
        "meghana=[\"apple\",\"fruit\",\"orange\",\"papaya\",\"mango\",\"banana\",\"kiwi\"]\n",
        "if \"banana\" in meghana:\n",
        "  print(\"Yes, 'banana' is in the meghana list\")"
      ],
      "metadata": {
        "colab": {
          "base_uri": "https://localhost:8080/"
        },
        "id": "xQ60p0qa_CCC",
        "outputId": "64eeb314-f93a-4d2b-e7df-18a0dcd0c2b4"
      },
      "execution_count": 31,
      "outputs": [
        {
          "output_type": "stream",
          "name": "stdout",
          "text": [
            "Yes, 'banana' is in the meghana list\n"
          ]
        }
      ]
    },
    {
      "cell_type": "markdown",
      "source": [
        "## change list items\n",
        "change item value"
      ],
      "metadata": {
        "id": "Shi30NVABiBU"
      }
    },
    {
      "cell_type": "code",
      "source": [
        "meghana=[\"apple\",\"fruit\",\"orange\",\"papaya\",\"mango\",\"banana\",\"kiwi\"]\n",
        "meghana[4]=\"pineapple\"\n",
        "print(meghana)"
      ],
      "metadata": {
        "colab": {
          "base_uri": "https://localhost:8080/"
        },
        "id": "EeNl-DvKBhQd",
        "outputId": "f11bac78-6e49-4ee8-fee5-3333fe5a4607"
      },
      "execution_count": 32,
      "outputs": [
        {
          "output_type": "stream",
          "name": "stdout",
          "text": [
            "['apple', 'fruit', 'orange', 'papaya', 'pineapple', 'banana', 'kiwi']\n"
          ]
        }
      ]
    },
    {
      "cell_type": "markdown",
      "source": [
        "Change a Range of Item Values"
      ],
      "metadata": {
        "id": "n61U0BR_Ce02"
      }
    },
    {
      "cell_type": "code",
      "source": [
        "meghana=[\"apple\",\"fruit\",\"orange\",\"papaya\",\"mango\",\"banana\",\"kiwi\"]\n",
        "meghana[1:3] = [\"blackcurrant\", \"watermelon\"]\n",
        "print(meghana)"
      ],
      "metadata": {
        "colab": {
          "base_uri": "https://localhost:8080/"
        },
        "id": "GNjTaD93B9iq",
        "outputId": "c2f59eb3-1a2c-4f2e-e4ac-36dc3421004c"
      },
      "execution_count": 33,
      "outputs": [
        {
          "output_type": "stream",
          "name": "stdout",
          "text": [
            "['apple', 'blackcurrant', 'watermelon', 'papaya', 'mango', 'banana', 'kiwi']\n"
          ]
        }
      ]
    },
    {
      "cell_type": "markdown",
      "source": [
        "Change the value by replacing it with  new values:"
      ],
      "metadata": {
        "id": "KqVHdsTbC_Pa"
      }
    },
    {
      "cell_type": "code",
      "source": [
        "meghana=[\"apple\",\"fruit\",\"orange\",\"papaya\",\"mango\",\"banana\",\"kiwi\"]\n",
        "meghana[2:3] = [\"blackcurrant\", \"watermelon\"]\n",
        "print(meghana)\n",
        "meghana=[\"apple\",\"fruit\",\"orange\",\"papaya\",\"mango\",\"banana\",\"kiwi\"]\n",
        "meghana[2:5] = [\"blackcurrant\", \"watermelon\"]\n",
        "print(meghana)"
      ],
      "metadata": {
        "colab": {
          "base_uri": "https://localhost:8080/"
        },
        "id": "JG2VxP60CvKf",
        "outputId": "0a4fee9c-0cad-4b39-b26f-efb81f31f0a6"
      },
      "execution_count": 36,
      "outputs": [
        {
          "output_type": "stream",
          "name": "stdout",
          "text": [
            "['apple', 'fruit', 'blackcurrant', 'watermelon', 'papaya', 'mango', 'banana', 'kiwi']\n",
            "['apple', 'fruit', 'blackcurrant', 'watermelon', 'banana', 'kiwi']\n"
          ]
        }
      ]
    },
    {
      "cell_type": "markdown",
      "source": [
        ""
      ],
      "metadata": {
        "id": "sp-b94r6DKiT"
      }
    },
    {
      "cell_type": "code",
      "source": [
        "meghana=[\"apple\",\"fruit\",\"orange\",\"papaya\",\"mango\",\"banana\",\"kiwi\"]\n",
        "print(meghana)\n",
        "print(len(meghana))\n",
        "meghana.insert(4,\"blackcurrant\")\n",
        "print(meghana)\n",
        "print(len(meghana))"
      ],
      "metadata": {
        "colab": {
          "base_uri": "https://localhost:8080/"
        },
        "id": "3q4Mtoe2DInM",
        "outputId": "870af5ce-6fd0-4c0b-a2bb-5bd4e7e3dbe9"
      },
      "execution_count": 40,
      "outputs": [
        {
          "output_type": "stream",
          "name": "stdout",
          "text": [
            "['apple', 'fruit', 'orange', 'papaya', 'mango', 'banana', 'kiwi']\n",
            "7\n",
            "['apple', 'fruit', 'orange', 'papaya', 'blackcurrant', 'mango', 'banana', 'kiwi']\n",
            "8\n"
          ]
        }
      ]
    },
    {
      "cell_type": "markdown",
      "source": [
        "## add list items\n",
        " append items"
      ],
      "metadata": {
        "id": "mWDEnpDxEqo8"
      }
    },
    {
      "cell_type": "code",
      "source": [
        "meghana=[\"apple\",\"fruit\",\"orange\",\"papaya\",\"mango\",\"banana\",\"kiwi\"]\n",
        "meghana.append(\"jackfruit\")#add at end of list\n",
        "print(meghana)"
      ],
      "metadata": {
        "colab": {
          "base_uri": "https://localhost:8080/"
        },
        "id": "P2nEutusEBFD",
        "outputId": "c0f56ba8-bffa-4f05-b1bd-f67fff2eaf92"
      },
      "execution_count": 42,
      "outputs": [
        {
          "output_type": "stream",
          "name": "stdout",
          "text": [
            "['apple', 'fruit', 'orange', 'papaya', 'mango', 'banana', 'kiwi', 'jackfruit']\n"
          ]
        }
      ]
    },
    {
      "cell_type": "markdown",
      "source": [
        "insert items"
      ],
      "metadata": {
        "id": "Jdimra2zFBpt"
      }
    },
    {
      "cell_type": "code",
      "source": [
        "meghana=[\"apple\",\"fruit\",\"orange\",\"papaya\",\"mango\",\"banana\",\"kiwi\"]\n",
        "meghana.insert(5,\"jackfruit\")\n",
        "print(meghana)\n",
        "\n"
      ],
      "metadata": {
        "colab": {
          "base_uri": "https://localhost:8080/"
        },
        "id": "gtDaWD6xE7Zp",
        "outputId": "93d3e765-d3fb-4042-b853-20b24f1d1bac"
      },
      "execution_count": 43,
      "outputs": [
        {
          "output_type": "stream",
          "name": "stdout",
          "text": [
            "['apple', 'fruit', 'orange', 'papaya', 'mango', 'jackfruit', 'banana', 'kiwi']\n"
          ]
        }
      ]
    },
    {
      "cell_type": "markdown",
      "source": [
        "extend list"
      ],
      "metadata": {
        "id": "r_PV5sqnFfLI"
      }
    },
    {
      "cell_type": "code",
      "source": [
        "meghana=[\"apple\",\"fruit\",\"orange\",\"papaya\",\"mango\",\"banana\",\"kiwi\"]\n",
        "meghana1=[\"watermelon\",\"jackfruit\",\"grape\"]\n",
        "meghana.extend(meghana1)\n",
        "print(meghana)"
      ],
      "metadata": {
        "colab": {
          "base_uri": "https://localhost:8080/"
        },
        "id": "varmVzUKFXCH",
        "outputId": "3e66cbb0-81a0-4f80-b2ee-4883a7458967"
      },
      "execution_count": 44,
      "outputs": [
        {
          "output_type": "stream",
          "name": "stdout",
          "text": [
            "['apple', 'fruit', 'orange', 'papaya', 'mango', 'banana', 'kiwi', 'watermelon', 'jackfruit', 'grape']\n"
          ]
        }
      ]
    },
    {
      "cell_type": "markdown",
      "source": [
        "add an irterable\n",
        "\n",
        "add elements of a tuple list"
      ],
      "metadata": {
        "id": "rtsFtFXmGLcQ"
      }
    },
    {
      "cell_type": "code",
      "source": [
        "meghana=[\"apple\",\"fruit\",\"orange\",\"papaya\",\"mango\",\"banana\",\"kiwi\"]\n",
        "meghana1=(\"watermelon\",\"jackfruit\",\"grape\")\n",
        "meghana.extend(meghana1)\n",
        "print(meghana)"
      ],
      "metadata": {
        "colab": {
          "base_uri": "https://localhost:8080/"
        },
        "id": "melSGqYKGEM9",
        "outputId": "7f3c72f7-273f-41a4-d3de-0450a39dd71f"
      },
      "execution_count": 46,
      "outputs": [
        {
          "output_type": "stream",
          "name": "stdout",
          "text": [
            "['apple', 'fruit', 'orange', 'papaya', 'mango', 'banana', 'kiwi', 'watermelon', 'jackfruit', 'grape']\n"
          ]
        }
      ]
    },
    {
      "cell_type": "markdown",
      "source": [
        "## remove list items\n",
        "\n",
        "remove specified item"
      ],
      "metadata": {
        "id": "BP_dDAeeGeXI"
      }
    },
    {
      "cell_type": "code",
      "source": [
        "meghana=[\"apple\",\"fruit\",\"orange\",\"papaya\",\"mango\",\"banana\",\"kiwi\"]\n",
        "print(meghana)\n",
        "print(len(meghana))\n",
        "meghana.remove(\"orange\")\n",
        "print(meghana)\n",
        "print(len(meghana))"
      ],
      "metadata": {
        "colab": {
          "base_uri": "https://localhost:8080/"
        },
        "id": "gfsYIHzRGdnL",
        "outputId": "fd4d584d-f96e-4e84-e827-6fdaa827a100"
      },
      "execution_count": 47,
      "outputs": [
        {
          "output_type": "stream",
          "name": "stdout",
          "text": [
            "['apple', 'fruit', 'orange', 'papaya', 'mango', 'banana', 'kiwi']\n",
            "7\n",
            "['apple', 'fruit', 'papaya', 'mango', 'banana', 'kiwi']\n",
            "6\n"
          ]
        }
      ]
    },
    {
      "cell_type": "markdown",
      "source": [
        "remove specified index(pop)\n",
        "If you do not specify the index, the pop() method removes the last item."
      ],
      "metadata": {
        "id": "oHH-fufiHk5B"
      }
    },
    {
      "cell_type": "code",
      "source": [
        "meghana=[\"apple\",\"fruit\",\"orange\",\"papaya\",\"mango\",\"banana\",\"kiwi\"]\n",
        "meghana.pop(5)\n",
        "print(meghana)\n",
        "meghana=[\"apple\",\"fruit\",\"orange\",\"papaya\",\"mango\",\"banana\",\"kiwi\"]\n",
        "meghana.pop()\n",
        "print(meghana)"
      ],
      "metadata": {
        "colab": {
          "base_uri": "https://localhost:8080/"
        },
        "id": "GaPs2bL4HN7W",
        "outputId": "71ea0e86-7767-4d4a-c5f9-f7c9f63ea547"
      },
      "execution_count": 50,
      "outputs": [
        {
          "output_type": "stream",
          "name": "stdout",
          "text": [
            "['apple', 'fruit', 'orange', 'papaya', 'mango', 'kiwi']\n",
            "['apple', 'fruit', 'orange', 'papaya', 'mango', 'banana']\n"
          ]
        }
      ]
    },
    {
      "cell_type": "markdown",
      "source": [
        "delete a specified index"
      ],
      "metadata": {
        "id": "IjNkwPLpIM_t"
      }
    },
    {
      "cell_type": "code",
      "source": [
        "meghana=[\"apple\",\"fruit\",\"orange\",\"papaya\",\"mango\",\"banana\",\"kiwi\"]\n",
        "del meghana [3]\n",
        "print(meghana)"
      ],
      "metadata": {
        "colab": {
          "base_uri": "https://localhost:8080/"
        },
        "id": "VU0jZ5dyIJMp",
        "outputId": "6701a615-a70e-4627-9550-15299f33872b"
      },
      "execution_count": 52,
      "outputs": [
        {
          "output_type": "stream",
          "name": "stdout",
          "text": [
            "['apple', 'fruit', 'orange', 'mango', 'banana', 'kiwi']\n"
          ]
        }
      ]
    },
    {
      "cell_type": "markdown",
      "source": [
        "del keyword also deletes the entire list"
      ],
      "metadata": {
        "id": "A7enrerbI_i0"
      }
    },
    {
      "cell_type": "code",
      "source": [
        "meghana=[\"apple\",\"fruit\",\"orange\",\"papaya\",\"mango\",\"banana\",\"kiwi\"]\n",
        "del meghana \n",
        "print(meghana)"
      ],
      "metadata": {
        "colab": {
          "base_uri": "https://localhost:8080/",
          "height": 205
        },
        "id": "e-aM2ip3I2PX",
        "outputId": "33bea329-d1b9-4382-bcbf-d7baa80d9d3e"
      },
      "execution_count": 55,
      "outputs": [
        {
          "output_type": "error",
          "ename": "NameError",
          "evalue": "ignored",
          "traceback": [
            "\u001b[0;31m---------------------------------------------------------------------------\u001b[0m",
            "\u001b[0;31mNameError\u001b[0m                                 Traceback (most recent call last)",
            "\u001b[0;32m<ipython-input-55-3cb95de80794>\u001b[0m in \u001b[0;36m<module>\u001b[0;34m()\u001b[0m\n\u001b[1;32m      1\u001b[0m \u001b[0mmeghana\u001b[0m\u001b[0;34m=\u001b[0m\u001b[0;34m[\u001b[0m\u001b[0;34m\"apple\"\u001b[0m\u001b[0;34m,\u001b[0m\u001b[0;34m\"fruit\"\u001b[0m\u001b[0;34m,\u001b[0m\u001b[0;34m\"orange\"\u001b[0m\u001b[0;34m,\u001b[0m\u001b[0;34m\"papaya\"\u001b[0m\u001b[0;34m,\u001b[0m\u001b[0;34m\"mango\"\u001b[0m\u001b[0;34m,\u001b[0m\u001b[0;34m\"banana\"\u001b[0m\u001b[0;34m,\u001b[0m\u001b[0;34m\"kiwi\"\u001b[0m\u001b[0;34m]\u001b[0m\u001b[0;34m\u001b[0m\u001b[0;34m\u001b[0m\u001b[0m\n\u001b[1;32m      2\u001b[0m \u001b[0;32mdel\u001b[0m \u001b[0mmeghana\u001b[0m\u001b[0;34m\u001b[0m\u001b[0;34m\u001b[0m\u001b[0m\n\u001b[0;32m----> 3\u001b[0;31m \u001b[0mprint\u001b[0m\u001b[0;34m(\u001b[0m\u001b[0mmeghana\u001b[0m\u001b[0;34m)\u001b[0m\u001b[0;34m\u001b[0m\u001b[0;34m\u001b[0m\u001b[0m\n\u001b[0m",
            "\u001b[0;31mNameError\u001b[0m: name 'meghana' is not defined"
          ]
        }
      ]
    },
    {
      "cell_type": "markdown",
      "source": [
        "clear list  clear()"
      ],
      "metadata": {
        "id": "OcdjOHzfJuky"
      }
    },
    {
      "cell_type": "code",
      "source": [
        "meghana=[\"apple\",\"fruit\",\"orange\",\"papaya\",\"mango\",\"banana\",\"kiwi\"]\n",
        "meghana.clear()\n",
        "print(meghana)"
      ],
      "metadata": {
        "colab": {
          "base_uri": "https://localhost:8080/"
        },
        "id": "x8DRZKi9Jt-m",
        "outputId": "e807b533-ed48-4fec-c51f-94cbd879a4bd"
      },
      "execution_count": 57,
      "outputs": [
        {
          "output_type": "stream",
          "name": "stdout",
          "text": [
            "[]\n"
          ]
        }
      ]
    },
    {
      "cell_type": "markdown",
      "source": [
        "## loop lists\n",
        "loop through a list"
      ],
      "metadata": {
        "id": "6AIi2gcuKaLH"
      }
    },
    {
      "cell_type": "code",
      "source": [
        "meghana=[\"apple\",\"fruit\",\"orange\",\"papaya\",\"mango\",\"banana\",\"kiwi\"]\n",
        "for x in meghana:\n",
        " print(x)\n",
        "meghana=[\"apple\",\"fruit\",\"orange\",\"papaya\",\"mango\",\"banana\",\"kiwi\"]\n",
        "for y in meghana:\n",
        " print(meghana)"
      ],
      "metadata": {
        "colab": {
          "base_uri": "https://localhost:8080/"
        },
        "id": "NzQX7_QxJ42s",
        "outputId": "34578f99-87bd-4ff9-8c58-54ae1939f963"
      },
      "execution_count": 62,
      "outputs": [
        {
          "output_type": "stream",
          "name": "stdout",
          "text": [
            "apple\n",
            "fruit\n",
            "orange\n",
            "papaya\n",
            "mango\n",
            "banana\n",
            "kiwi\n",
            "['apple', 'fruit', 'orange', 'papaya', 'mango', 'banana', 'kiwi']\n",
            "['apple', 'fruit', 'orange', 'papaya', 'mango', 'banana', 'kiwi']\n",
            "['apple', 'fruit', 'orange', 'papaya', 'mango', 'banana', 'kiwi']\n",
            "['apple', 'fruit', 'orange', 'papaya', 'mango', 'banana', 'kiwi']\n",
            "['apple', 'fruit', 'orange', 'papaya', 'mango', 'banana', 'kiwi']\n",
            "['apple', 'fruit', 'orange', 'papaya', 'mango', 'banana', 'kiwi']\n",
            "['apple', 'fruit', 'orange', 'papaya', 'mango', 'banana', 'kiwi']\n"
          ]
        }
      ]
    },
    {
      "cell_type": "markdown",
      "source": [
        "loop through index numbers"
      ],
      "metadata": {
        "id": "FSMzIbEWLdP2"
      }
    },
    {
      "cell_type": "code",
      "source": [
        "meghana=[\"apple\",\"fruit\",\"orange\",\"papaya\",\"mango\",\"banana\",\"kiwi\"]\n",
        "for x in range(len(meghana)):\n",
        " print(meghana[x])"
      ],
      "metadata": {
        "colab": {
          "base_uri": "https://localhost:8080/"
        },
        "id": "rqdagwlsLcyL",
        "outputId": "6226f6dd-db37-4e01-d477-dfd2fd40a410"
      },
      "execution_count": 67,
      "outputs": [
        {
          "output_type": "stream",
          "name": "stdout",
          "text": [
            "apple\n",
            "fruit\n",
            "orange\n",
            "papaya\n",
            "mango\n",
            "banana\n",
            "kiwi\n"
          ]
        }
      ]
    },
    {
      "cell_type": "markdown",
      "source": [
        "using a while loop"
      ],
      "metadata": {
        "id": "7ZOyat09NqUt"
      }
    },
    {
      "cell_type": "code",
      "source": [
        "meghana=[\"apple\",\"fruit\",\"orange\",\"papaya\",\"mango\",\"banana\",\"kiwi\"]\n",
        "i = 0\n",
        "while i < len(meghana):\n",
        "  print(meghana[i])\n",
        "  i=i+1"
      ],
      "metadata": {
        "colab": {
          "base_uri": "https://localhost:8080/"
        },
        "id": "YDMK0uuBM2Ch",
        "outputId": "ba568a5d-fb2d-461a-f79a-a101454ad884"
      },
      "execution_count": 72,
      "outputs": [
        {
          "output_type": "stream",
          "name": "stdout",
          "text": [
            "apple\n",
            "fruit\n",
            "orange\n",
            "papaya\n",
            "mango\n",
            "banana\n",
            "kiwi\n"
          ]
        }
      ]
    },
    {
      "cell_type": "markdown",
      "source": [
        "looping using list comprehension"
      ],
      "metadata": {
        "id": "HppLe4Q6Oww3"
      }
    },
    {
      "cell_type": "code",
      "source": [
        "meghana=[\"apple\",\"fruit\",\"orange\",\"papaya\",\"mango\",\"banana\",\"kiwi\"]\n",
        "print(meghana)\n",
        "[print(x) for x in meghana]"
      ],
      "metadata": {
        "colab": {
          "base_uri": "https://localhost:8080/"
        },
        "id": "oJNFIbHjOwC7",
        "outputId": "881f3b8c-a51d-4476-a1d3-2dcf7fcbd329"
      },
      "execution_count": 74,
      "outputs": [
        {
          "output_type": "stream",
          "name": "stdout",
          "text": [
            "['apple', 'fruit', 'orange', 'papaya', 'mango', 'banana', 'kiwi']\n",
            "apple\n",
            "fruit\n",
            "orange\n",
            "papaya\n",
            "mango\n",
            "banana\n",
            "kiwi\n"
          ]
        },
        {
          "output_type": "execute_result",
          "data": {
            "text/plain": [
              "[None, None, None, None, None, None, None]"
            ]
          },
          "metadata": {},
          "execution_count": 74
        }
      ]
    },
    {
      "cell_type": "markdown",
      "source": [
        "## list comprehensions\n"
      ],
      "metadata": {
        "id": "92NCCvF8Pdvz"
      }
    },
    {
      "cell_type": "code",
      "source": [
        "meghana=[\"apple\",\"fruit\",\"orange\",\"papaya\",\"mango\",\"banana\",\"kiwi\"]\n",
        "newlist = [\"jackfruit\",\"pineapple\"]\n",
        "\n",
        "for x in meghana:\n",
        "  if \"a\" in x:\n",
        "    newlist.append(x)\n",
        "\n",
        "print(newlist)\n"
      ],
      "metadata": {
        "colab": {
          "base_uri": "https://localhost:8080/"
        },
        "id": "ahjE0zYePZn7",
        "outputId": "71005229-ae4b-4d34-e582-326d53244ad0"
      },
      "execution_count": 79,
      "outputs": [
        {
          "output_type": "stream",
          "name": "stdout",
          "text": [
            "['jackfruit', 'pineapple', 'apple', 'orange', 'papaya', 'mango', 'banana']\n"
          ]
        }
      ]
    },
    {
      "cell_type": "code",
      "source": [
        "meghana=[\"apple\",\"fruit\",\"orange\",\"papaya\",\"mango\",\"banana\",\"kiwi\"]\n",
        "\n",
        "newlist = [x for x in meghana if \"f\" in x]\n",
        "\n",
        "print(newlist)"
      ],
      "metadata": {
        "colab": {
          "base_uri": "https://localhost:8080/"
        },
        "id": "3e9mxoksSfqP",
        "outputId": "3d29805f-b54f-4953-c1ce-df102745f266"
      },
      "execution_count": 81,
      "outputs": [
        {
          "output_type": "stream",
          "name": "stdout",
          "text": [
            "['fruit']\n"
          ]
        }
      ]
    },
    {
      "cell_type": "markdown",
      "source": [
        "CONDITION"
      ],
      "metadata": {
        "id": "A3MTfmlLS_E6"
      }
    },
    {
      "cell_type": "code",
      "source": [
        "meghana=[\"apple\",\"fruit\",\"orange\",\"papaya\",\"mango\",\"banana\",\"kiwi\"]\n",
        "newlist = [x for x in meghana if x != \"apple\"]\n",
        "print(newlist)\n",
        "meghana=[\"apple\",\"fruit\",\"orange\",\"papaya\",\"mango\",\"banana\",\"kiwi\"]\n",
        "newlist = [x for x in meghana if x != \"mango\"]\n",
        "print(newlist)"
      ],
      "metadata": {
        "colab": {
          "base_uri": "https://localhost:8080/"
        },
        "id": "_mJmkE-nS1A5",
        "outputId": "6bec89e1-40d1-4240-8c92-97099f88a83f"
      },
      "execution_count": 83,
      "outputs": [
        {
          "output_type": "stream",
          "name": "stdout",
          "text": [
            "['fruit', 'orange', 'papaya', 'mango', 'banana', 'kiwi']\n",
            "['apple', 'fruit', 'orange', 'papaya', 'banana', 'kiwi']\n"
          ]
        }
      ]
    },
    {
      "cell_type": "code",
      "source": [
        "meghana=[\"apple\",\"fruit\",\"orange\",\"papaya\",\"mango\",\"banana\",\"kiwi\"]\n",
        "newlist = [x for x in meghana]\n",
        "print(newlist)"
      ],
      "metadata": {
        "colab": {
          "base_uri": "https://localhost:8080/"
        },
        "id": "_JShZ7ltTRuu",
        "outputId": "f7c103f2-7081-4f89-aa24-fb5b080766ea"
      },
      "execution_count": 84,
      "outputs": [
        {
          "output_type": "stream",
          "name": "stdout",
          "text": [
            "['apple', 'fruit', 'orange', 'papaya', 'mango', 'banana', 'kiwi']\n"
          ]
        }
      ]
    },
    {
      "cell_type": "markdown",
      "source": [
        "iterable"
      ],
      "metadata": {
        "id": "crWdWRQCTwp4"
      }
    },
    {
      "cell_type": "code",
      "source": [
        "meghana=[\"apple\",\"fruit\",\"orange\",\"papaya\",\"mango\",\"banana\",\"kiwi\"]\n",
        "newlist = [x for x in range(4)]\n",
        "print(newlist)\n",
        "#same example with a condition\n",
        "meghana=[\"apple\",\"fruit\",\"orange\",\"papaya\",\"mango\",\"banana\",\"kiwi\"]\n",
        "newlist = [x for x in range(7) if x>4]\n",
        "print(newlist)"
      ],
      "metadata": {
        "colab": {
          "base_uri": "https://localhost:8080/"
        },
        "id": "Ltr8qGZjTx0Q",
        "outputId": "fa83c498-f903-4e03-d8e2-54360602e873"
      },
      "execution_count": 86,
      "outputs": [
        {
          "output_type": "stream",
          "name": "stdout",
          "text": [
            "[0, 1, 2, 3]\n",
            "[5, 6]\n"
          ]
        }
      ]
    },
    {
      "cell_type": "markdown",
      "source": [
        "expression"
      ],
      "metadata": {
        "id": "ss4uMKzmUcS8"
      }
    },
    {
      "cell_type": "code",
      "source": [
        "meghana=[\"apple\",\"fruit\",\"orange\",\"papaya\",\"mango\",\"banana\",\"kiwi\"]\n",
        "newlist = [x.upper() for x in meghana]\n",
        "print(newlist)\n",
        "meghana=[\"APPLE\",\"FRUIT\",\"ORANGE\",\"PAPAYA\",\"MANGO\",\"BANANA\",\"KIWI\"]\n",
        "newlist = [x.lower() for x in meghana]\n",
        "print(newlist)\n",
        "meghana=[\"apple\",\"fruit\",\"orange\",\"PAPAYA\",\"MANGO\",\"banana\",\"kiwi\"]\n",
        "newlist = [x.lower() for x in meghana]\n",
        "print(newlist)"
      ],
      "metadata": {
        "colab": {
          "base_uri": "https://localhost:8080/"
        },
        "id": "HD7mak8zT9cV",
        "outputId": "6e570126-5212-4c99-ae31-870a40f80c6f"
      },
      "execution_count": 94,
      "outputs": [
        {
          "output_type": "stream",
          "name": "stdout",
          "text": [
            "['APPLE', 'FRUIT', 'ORANGE', 'PAPAYA', 'MANGO', 'BANANA', 'KIWI']\n",
            "['apple', 'fruit', 'orange', 'papaya', 'mango', 'banana', 'kiwi']\n",
            "['apple', 'fruit', 'orange', 'papaya', 'mango', 'banana', 'kiwi']\n"
          ]
        }
      ]
    },
    {
      "cell_type": "code",
      "source": [
        "meghana=[\"apple\",\"fruit\",\"orange\",\"papaya\",\"mango\",\"banana\",\"kiwi\"]\n",
        "newlist = ['hello' for x in meghana]\n",
        "print(newlist)"
      ],
      "metadata": {
        "colab": {
          "base_uri": "https://localhost:8080/"
        },
        "id": "Ap_33oOIUlKZ",
        "outputId": "94e4efb7-1b92-499b-89bf-b80faa6ed083"
      },
      "execution_count": 91,
      "outputs": [
        {
          "output_type": "stream",
          "name": "stdout",
          "text": [
            "['hello', 'hello', 'hello', 'hello', 'hello', 'hello', 'hello']\n"
          ]
        }
      ]
    },
    {
      "cell_type": "code",
      "source": [
        "meghana=[\"apple\",\"fruit\",\"orange\",\"papaya\",\"mango\",\"banana\",\"kiwi\"]\n",
        "print(len(meghana))\n",
        "newlist = [x if x != \"banana\" else \"orange\" for x in meghana]#banana will be replaced by orange\n",
        "print(newlist)\n",
        "print(len(newlist))"
      ],
      "metadata": {
        "colab": {
          "base_uri": "https://localhost:8080/"
        },
        "id": "rLQJB-ipUl7h",
        "outputId": "b7746029-b2b8-48c0-d23c-0565b973dd30"
      },
      "execution_count": 98,
      "outputs": [
        {
          "output_type": "stream",
          "name": "stdout",
          "text": [
            "7\n",
            "['apple', 'fruit', 'orange', 'papaya', 'mango', 'orange', 'kiwi']\n",
            "7\n"
          ]
        }
      ]
    },
    {
      "cell_type": "markdown",
      "source": [
        "## SORT LISTS\n",
        "sort lists alphanumerically"
      ],
      "metadata": {
        "id": "C5BGy2giWAN-"
      }
    },
    {
      "cell_type": "markdown",
      "source": [
        "from a to z\n"
      ],
      "metadata": {
        "id": "al5eiSrwX_iV"
      }
    },
    {
      "cell_type": "code",
      "source": [
        "meghana=[\"apple\",\"fruit\",\"orange\",\"papaya\",\"mango\",\"banana\",\"kiwi\"]\n",
        "meghana.sort()\n",
        "print(meghana)"
      ],
      "metadata": {
        "colab": {
          "base_uri": "https://localhost:8080/"
        },
        "id": "yEB0pvjQVgc7",
        "outputId": "e0768a2f-e30e-4fe9-9329-85f313ac687b"
      },
      "execution_count": 105,
      "outputs": [
        {
          "output_type": "stream",
          "name": "stdout",
          "text": [
            "['apple', 'banana', 'fruit', 'kiwi', 'mango', 'orange', 'papaya']\n"
          ]
        }
      ]
    },
    {
      "cell_type": "markdown",
      "source": [
        "from z to a"
      ],
      "metadata": {
        "id": "YOjXzWABYCxH"
      }
    },
    {
      "cell_type": "code",
      "source": [
        "meghana=[\"apple\",\"fruit\",\"orange\",\"papaya\",\"mango\",\"banana\",\"kiwi\"]\n",
        "meghana.sort(reverse=True)\n",
        "print(meghana)"
      ],
      "metadata": {
        "colab": {
          "base_uri": "https://localhost:8080/"
        },
        "id": "XqjePM-nYFES",
        "outputId": "c0ef4268-bac0-464e-f594-adbdd2ba8d28"
      },
      "execution_count": 106,
      "outputs": [
        {
          "output_type": "stream",
          "name": "stdout",
          "text": [
            "['papaya', 'orange', 'mango', 'kiwi', 'fruit', 'banana', 'apple']\n"
          ]
        }
      ]
    },
    {
      "cell_type": "markdown",
      "source": [
        "acending order"
      ],
      "metadata": {
        "id": "Zg4s_QRtXk3C"
      }
    },
    {
      "cell_type": "code",
      "source": [
        "meghana=[10,20,5,67,90]\n",
        "meghana.sort()\n",
        "print(meghana)"
      ],
      "metadata": {
        "colab": {
          "base_uri": "https://localhost:8080/"
        },
        "id": "KHma2nJXXKgo",
        "outputId": "e65f35ab-f711-45d0-c870-017b855eafad"
      },
      "execution_count": 101,
      "outputs": [
        {
          "output_type": "stream",
          "name": "stdout",
          "text": [
            "[5, 10, 20, 67, 90]\n"
          ]
        }
      ]
    },
    {
      "cell_type": "markdown",
      "source": [
        "desending order"
      ],
      "metadata": {
        "id": "yk1-yA25XyKa"
      }
    },
    {
      "cell_type": "code",
      "source": [
        "meghana=[10,20,5,67,90]\n",
        "meghana.sort(reverse =True)\n",
        "print(meghana)"
      ],
      "metadata": {
        "colab": {
          "base_uri": "https://localhost:8080/"
        },
        "id": "MOQ7WWliXjfE",
        "outputId": "d9f85575-7bf6-442b-a805-06c46ae12d47"
      },
      "execution_count": 103,
      "outputs": [
        {
          "output_type": "stream",
          "name": "stdout",
          "text": [
            "[90, 67, 20, 10, 5]\n"
          ]
        }
      ]
    },
    {
      "cell_type": "markdown",
      "source": [
        "case insensitive sort\n",
        "\n",
        "By default the sort() method is case sensitive, resulting in all capital letters being sorted before lower case letters:"
      ],
      "metadata": {
        "id": "ynxkBI50YX-R"
      }
    },
    {
      "cell_type": "code",
      "source": [
        "meghana=[\"Apple\",\"fruit\",\"Orange\",\"Papaya\",\"mango\",\"banana\",\"kiwi\"]\n",
        "meghana.sort()\n",
        "print(meghana)"
      ],
      "metadata": {
        "colab": {
          "base_uri": "https://localhost:8080/"
        },
        "id": "DyLUsBg-X2JG",
        "outputId": "58200e73-ded5-4b4b-8502-ecf8250e3f11"
      },
      "execution_count": 108,
      "outputs": [
        {
          "output_type": "stream",
          "name": "stdout",
          "text": [
            "['Apple', 'Orange', 'Papaya', 'banana', 'fruit', 'kiwi', 'mango']\n"
          ]
        }
      ]
    },
    {
      "cell_type": "markdown",
      "source": [
        "SMALL LETTER WORD BEFORE CAPITAL LETTER"
      ],
      "metadata": {
        "id": "O3sEHSXjY4xJ"
      }
    },
    {
      "cell_type": "code",
      "source": [
        "meghana=[\"Apple\",\"fruit\",\"Orange\",\"Papaya\",\"mango\",\"banana\",\"kiwi\"]\n",
        "meghana.sort(key=str.lower)\n",
        "print(meghana)"
      ],
      "metadata": {
        "colab": {
          "base_uri": "https://localhost:8080/"
        },
        "id": "oD-H16PrY4PD",
        "outputId": "b26a88ce-0faf-4625-c136-b3c6fabc0fc5"
      },
      "execution_count": 109,
      "outputs": [
        {
          "output_type": "stream",
          "name": "stdout",
          "text": [
            "['Apple', 'banana', 'fruit', 'kiwi', 'mango', 'Orange', 'Papaya']\n"
          ]
        }
      ]
    },
    {
      "cell_type": "markdown",
      "source": [
        "reverse order"
      ],
      "metadata": {
        "id": "IO1MIbbWZaXM"
      }
    },
    {
      "cell_type": "code",
      "source": [
        "meghana=[\"Apple\",\"fruit\",\"Orange\",\"Papaya\",\"mango\",\"banana\",\"kiwi\"]\n",
        "meghana.reverse()\n",
        "print(meghana)"
      ],
      "metadata": {
        "colab": {
          "base_uri": "https://localhost:8080/"
        },
        "id": "HG4enoVxZZ6R",
        "outputId": "d86fdc36-7efa-4a13-f3e5-fa652bdbb974"
      },
      "execution_count": 110,
      "outputs": [
        {
          "output_type": "stream",
          "name": "stdout",
          "text": [
            "['kiwi', 'banana', 'mango', 'Papaya', 'Orange', 'fruit', 'Apple']\n"
          ]
        }
      ]
    },
    {
      "cell_type": "markdown",
      "source": [
        "## COPY LISTS\n",
        "\n",
        "COPY A LIST"
      ],
      "metadata": {
        "id": "wR8fPiNJii3B"
      }
    },
    {
      "cell_type": "code",
      "source": [
        "meghana=[\"apple\",\"fruit\",\"orange\",\"papaya\",\"mango\",\"banana\",\"kiwi\"] #let meghana1 be one more list\n",
        "print(meghana)\n",
        "meghana1=meghana.copy()#list meghana will be copied to meghana1\n",
        "print(meghana1)"
      ],
      "metadata": {
        "colab": {
          "base_uri": "https://localhost:8080/"
        },
        "id": "VPQeTf6pZImV",
        "outputId": "c078ab86-f637-48b8-fe0f-1248e04e5530"
      },
      "execution_count": 113,
      "outputs": [
        {
          "output_type": "stream",
          "name": "stdout",
          "text": [
            "['apple', 'fruit', 'orange', 'papaya', 'mango', 'banana', 'kiwi']\n",
            "['apple', 'fruit', 'orange', 'papaya', 'mango', 'banana', 'kiwi']\n"
          ]
        }
      ]
    },
    {
      "cell_type": "code",
      "source": [
        "meghana=[\"apple\",\"fruit\",\"orange\",\"papaya\",\"mango\",\"banana\",\"kiwi\"] \n",
        "mylist=list(mylist)\n",
        "print(mylist)"
      ],
      "metadata": {
        "colab": {
          "base_uri": "https://localhost:8080/"
        },
        "id": "FOrD4uunkkkK",
        "outputId": "703b7957-2196-4325-991c-b74ff4660e95"
      },
      "execution_count": 115,
      "outputs": [
        {
          "output_type": "stream",
          "name": "stdout",
          "text": [
            "['apple', 'fruit', 'orange', 'papaya', 'mango', 'banana', 'kiwi']\n"
          ]
        }
      ]
    },
    {
      "cell_type": "markdown",
      "source": [
        "## join lists"
      ],
      "metadata": {
        "id": "3vYw5sFwlI5J"
      }
    },
    {
      "cell_type": "markdown",
      "source": [
        "join 2 lists\n",
        "\n",
        "method 1"
      ],
      "metadata": {
        "id": "EWnO2ttylLvo"
      }
    },
    {
      "cell_type": "code",
      "source": [
        "meghana=[\"apple\",\"fruit\",\"orange\",\"papaya\",\"mango\",\"banana\",\"kiwi\"] \n",
        "VU21CSEN0101487=[1,2,3,4]\n",
        "meghanavu21csen0101487 = meghana + VU21CSEN0101487\n",
        "print(meghanavu21csen0101487)"
      ],
      "metadata": {
        "colab": {
          "base_uri": "https://localhost:8080/"
        },
        "id": "QOTU4XdClLIT",
        "outputId": "1ffa28d0-3eb9-4b25-cf8f-94580aaaf1d6"
      },
      "execution_count": 121,
      "outputs": [
        {
          "output_type": "stream",
          "name": "stdout",
          "text": [
            "['apple', 'fruit', 'orange', 'papaya', 'mango', 'banana', 'kiwi', 1, 2, 3, 4]\n"
          ]
        }
      ]
    },
    {
      "cell_type": "markdown",
      "source": [
        "method 2"
      ],
      "metadata": {
        "id": "VDaOUjEEm9Ym"
      }
    },
    {
      "cell_type": "code",
      "source": [
        "meghana=[\"apple\",\"fruit\",\"orange\",\"papaya\",\"mango\",\"banana\",\"kiwi\"] \n",
        "VU21CSEN0101487=[1,2,3,4]\n",
        "for x in VU21CSEN0101487:\n",
        "  meghana.append(x)\n",
        "\n",
        "print(meghana)"
      ],
      "metadata": {
        "colab": {
          "base_uri": "https://localhost:8080/"
        },
        "id": "S9JZYpTAmHvL",
        "outputId": "6c69536e-0c06-424e-eaa6-e94d78a42ca9"
      },
      "execution_count": 122,
      "outputs": [
        {
          "output_type": "stream",
          "name": "stdout",
          "text": [
            "['apple', 'fruit', 'orange', 'papaya', 'mango', 'banana', 'kiwi', 1, 2, 3, 4]\n"
          ]
        }
      ]
    },
    {
      "cell_type": "markdown",
      "source": [
        "method 3"
      ],
      "metadata": {
        "id": "Bh9s68V2m_1x"
      }
    },
    {
      "cell_type": "code",
      "source": [
        "meghana=[\"apple\",\"fruit\",\"orange\",\"papaya\",\"mango\",\"banana\",\"kiwi\"] \n",
        "vu21csen0101487 =[1,2,3,4]\n",
        "meghana.extend(vu21csen0101487)\n",
        "print(meghana)"
      ],
      "metadata": {
        "colab": {
          "base_uri": "https://localhost:8080/"
        },
        "id": "mwBbeakonB6E",
        "outputId": "3a21df02-087f-4f76-cd3b-cbb1b0e43896"
      },
      "execution_count": 124,
      "outputs": [
        {
          "output_type": "stream",
          "name": "stdout",
          "text": [
            "['apple', 'fruit', 'orange', 'papaya', 'mango', 'banana', 'kiwi', 1, 2, 3, 4]\n"
          ]
        }
      ]
    }
  ]
}