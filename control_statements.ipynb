{
  "nbformat": 4,
  "nbformat_minor": 0,
  "metadata": {
    "colab": {
      "name": "control statements",
      "provenance": [],
      "authorship_tag": "ABX9TyNozAfmFqWW48w0aLP4V3Mb",
      "include_colab_link": true
    },
    "kernelspec": {
      "name": "python3",
      "display_name": "Python 3"
    },
    "language_info": {
      "name": "python"
    }
  },
  "cells": [
    {
      "cell_type": "markdown",
      "metadata": {
        "id": "view-in-github",
        "colab_type": "text"
      },
      "source": [
        "<a href=\"https://colab.research.google.com/github/MEGHANA192/python/blob/main/control_statements.ipynb\" target=\"_parent\"><img src=\"https://colab.research.google.com/assets/colab-badge.svg\" alt=\"Open In Colab\"/></a>"
      ]
    },
    {
      "cell_type": "markdown",
      "source": [
        "# control statemets"
      ],
      "metadata": {
        "id": "tSG4_53kp-O5"
      }
    },
    {
      "cell_type": "markdown",
      "source": [
        "1)if else vote"
      ],
      "metadata": {
        "id": "cE_lnIU9rSNM"
      }
    },
    {
      "cell_type": "code",
      "source": [
        "a=int(input(\"enter the value of a \"))\n",
        "if(a>=18):\n",
        "  print(\"you are eligible for voting\")\n",
        "else:\n",
        "  (\"you are not eligible for voting\")"
      ],
      "metadata": {
        "colab": {
          "base_uri": "https://localhost:8080/"
        },
        "id": "Y9t3CySeqEoA",
        "outputId": "c94b438b-a4cf-47c1-9bdf-dfb510006cf0"
      },
      "execution_count": null,
      "outputs": [
        {
          "name": "stdout",
          "output_type": "stream",
          "text": [
            "enter the value of a 6\n"
          ]
        }
      ]
    },
    {
      "cell_type": "markdown",
      "source": [
        "2)maximum of 3 numbers\n"
      ],
      "metadata": {
        "id": "QaSgKU8HuMPf"
      }
    },
    {
      "cell_type": "code",
      "source": [
        "a=int(input(\"enter the value of a \"))\n",
        "b=int(input(\"enter the value of b \"))\n",
        "c=int(input(\"enter the value of c \"))\n",
        "if(a>b and a>c):\n",
        "  print(\"a is the greatest number\")\n",
        "elif(b>a and b>c):\n",
        "  print(\"b is the gratest number\")\n",
        "else:\n",
        "  print(\"c is the greatest number\")"
      ],
      "metadata": {
        "colab": {
          "base_uri": "https://localhost:8080/"
        },
        "id": "C_FiwoqPrbXU",
        "outputId": "a9e8f624-f7c7-4252-90ee-510e98cebf6e"
      },
      "execution_count": null,
      "outputs": [
        {
          "output_type": "stream",
          "name": "stdout",
          "text": [
            "enter the value of a 3\n",
            "enter the value of b 2\n",
            "enter the value of c 1\n",
            "a is the greatest number\n"
          ]
        }
      ]
    },
    {
      "cell_type": "markdown",
      "source": [
        "3)"
      ],
      "metadata": {
        "id": "TgyKKO5xuTlp"
      }
    },
    {
      "cell_type": "code",
      "source": [
        "a=int(input(\"enter the value of a \"))\n",
        "b=int(input(\"enter the value of b \"))\n",
        "c=int(input(\"enter the value of c \"))\n",
        "d=int(input(\"enter the value of d \"))\n",
        "e=int(input(\"enter the value of e \"))\n",
        "if(a>b and a>c and a>d and a>e):\n",
        "  print(a,\"a is the greatest number\")\n",
        "elif(b>a and b>c and b>d and b>e):\n",
        "  print(b,\"b is the gratest number\")\n",
        "elif(c>a and  c>b and c>d and c>e):\n",
        "  print(c,\"c is the gratest number\")\n",
        "elif(d>a and d>b and d>c and d>e):\n",
        "  print(d,\"d is the gratest number\")\n",
        "else:\n",
        "  print(\"e is the greatest number\")"
      ],
      "metadata": {
        "colab": {
          "base_uri": "https://localhost:8080/",
          "height": 252
        },
        "id": "t_ZkizB4uSyv",
        "outputId": "fb777efb-0ba2-467a-dbd0-b18b46291c66"
      },
      "execution_count": null,
      "outputs": [
        {
          "name": "stdout",
          "output_type": "stream",
          "text": [
            "enter the value of a meghana\n"
          ]
        },
        {
          "output_type": "error",
          "ename": "ValueError",
          "evalue": "ignored",
          "traceback": [
            "\u001b[0;31m---------------------------------------------------------------------------\u001b[0m",
            "\u001b[0;31mValueError\u001b[0m                                Traceback (most recent call last)",
            "\u001b[0;32m<ipython-input-4-2b17f656607d>\u001b[0m in \u001b[0;36m<module>\u001b[0;34m()\u001b[0m\n\u001b[0;32m----> 1\u001b[0;31m \u001b[0ma\u001b[0m\u001b[0;34m=\u001b[0m\u001b[0mint\u001b[0m\u001b[0;34m(\u001b[0m\u001b[0minput\u001b[0m\u001b[0;34m(\u001b[0m\u001b[0;34m\"enter the value of a \"\u001b[0m\u001b[0;34m)\u001b[0m\u001b[0;34m)\u001b[0m\u001b[0;34m\u001b[0m\u001b[0;34m\u001b[0m\u001b[0m\n\u001b[0m\u001b[1;32m      2\u001b[0m \u001b[0mb\u001b[0m\u001b[0;34m=\u001b[0m\u001b[0mint\u001b[0m\u001b[0;34m(\u001b[0m\u001b[0minput\u001b[0m\u001b[0;34m(\u001b[0m\u001b[0;34m\"enter the value of b \"\u001b[0m\u001b[0;34m)\u001b[0m\u001b[0;34m)\u001b[0m\u001b[0;34m\u001b[0m\u001b[0;34m\u001b[0m\u001b[0m\n\u001b[1;32m      3\u001b[0m \u001b[0mc\u001b[0m\u001b[0;34m=\u001b[0m\u001b[0mint\u001b[0m\u001b[0;34m(\u001b[0m\u001b[0minput\u001b[0m\u001b[0;34m(\u001b[0m\u001b[0;34m\"enter the value of c \"\u001b[0m\u001b[0;34m)\u001b[0m\u001b[0;34m)\u001b[0m\u001b[0;34m\u001b[0m\u001b[0;34m\u001b[0m\u001b[0m\n\u001b[1;32m      4\u001b[0m \u001b[0md\u001b[0m\u001b[0;34m=\u001b[0m\u001b[0mint\u001b[0m\u001b[0;34m(\u001b[0m\u001b[0minput\u001b[0m\u001b[0;34m(\u001b[0m\u001b[0;34m\"enter the value of d \"\u001b[0m\u001b[0;34m)\u001b[0m\u001b[0;34m)\u001b[0m\u001b[0;34m\u001b[0m\u001b[0;34m\u001b[0m\u001b[0m\n\u001b[1;32m      5\u001b[0m \u001b[0me\u001b[0m\u001b[0;34m=\u001b[0m\u001b[0mint\u001b[0m\u001b[0;34m(\u001b[0m\u001b[0minput\u001b[0m\u001b[0;34m(\u001b[0m\u001b[0;34m\"enter the value of e \"\u001b[0m\u001b[0;34m)\u001b[0m\u001b[0;34m)\u001b[0m\u001b[0;34m\u001b[0m\u001b[0;34m\u001b[0m\u001b[0m\n",
            "\u001b[0;31mValueError\u001b[0m: invalid literal for int() with base 10: 'meghana'"
          ]
        }
      ]
    },
    {
      "cell_type": "markdown",
      "source": [
        "4) subject marks and maximum"
      ],
      "metadata": {
        "id": "9Bac-q33wmJh"
      }
    },
    {
      "cell_type": "code",
      "source": [
        "a=int(input(\"enter the value of phy \"))\n",
        "b=int(input(\"enter the value of chem \"))\n",
        "c=int(input(\"enter the value of m1 \"))\n",
        "d=int(input(\"enter the value of m2 \"))\n",
        "e=int(input(\"enter the value of cse \"))\n",
        "if(a>b and a>c and a>d and a>e):\n",
        "  print(a,\" secured marks is highest in physics\")\n",
        "elif(b>a and b>c and b>d and b>e):\n",
        "  print(b,\" secured marks is highest in chemistry\")\n",
        "elif(c>a and c>b and c>d and c>e):\n",
        "  print(c,\" secured marks is highest in m1\")\n",
        "elif(d>a and d>b and d>c and d>e):\n",
        "  print(d,\" secured marks is highest in m2\")\n",
        "elif(e>a and e>b and e>c and e>d):\n",
        "  print(e,\" secured marks is highest in cse\")\n",
        "else:\n",
        "  print(\"error\") "
      ],
      "metadata": {
        "colab": {
          "base_uri": "https://localhost:8080/"
        },
        "id": "JM_EBNtHwlKJ",
        "outputId": "0ba5d48e-eed4-4635-a24a-0d8125d79536"
      },
      "execution_count": null,
      "outputs": [
        {
          "output_type": "stream",
          "name": "stdout",
          "text": [
            "enter the value of phy 20\n",
            "enter the value of chem 34\n",
            "enter the value of m1 34\n",
            "enter the value of m2 54\n",
            "enter the value of cse 54\n",
            "error\n"
          ]
        }
      ]
    },
    {
      "cell_type": "markdown",
      "source": [
        "## WHILE LOOP\n",
        "\n",
        "1)sum"
      ],
      "metadata": {
        "id": "AG5eKYl_CDiI"
      }
    },
    {
      "cell_type": "code",
      "source": [
        "  n = int(input(\"Enter n: \"))\n",
        "sum=0\n",
        "i=1\n",
        "while i <= n:\n",
        "    sum = sum + i\n",
        "    i = i+1\n",
        "\n",
        "\n",
        "print(\"thte sum is  \",sum)\n"
      ],
      "metadata": {
        "id": "PT5-5rPSCBia",
        "colab": {
          "base_uri": "https://localhost:8080/"
        },
        "outputId": "d73e9f3f-2014-4585-deb5-bae3fb5ac771"
      },
      "execution_count": 15,
      "outputs": [
        {
          "output_type": "stream",
          "name": "stdout",
          "text": [
            "Enter n: 10\n",
            "thte sum is   55\n"
          ]
        }
      ]
    },
    {
      "cell_type": "markdown",
      "source": [
        "2)print numbers"
      ],
      "metadata": {
        "id": "UvpTdpcfOucT"
      }
    },
    {
      "cell_type": "code",
      "source": [
        "n = int(input(\"Enter n: \"))\n",
        "sum=0\n",
        "i=0\n",
        "while i <= n:\n",
        "    sum = sum + i\n",
        "    i = i+1\n",
        "    print(i)\n"
      ],
      "metadata": {
        "colab": {
          "base_uri": "https://localhost:8080/"
        },
        "id": "qwGfjM4kOtCP",
        "outputId": "12bd6fa3-7d84-4961-8013-c78ffb8d1ed2"
      },
      "execution_count": 16,
      "outputs": [
        {
          "output_type": "stream",
          "name": "stdout",
          "text": [
            "Enter n: 1\n",
            "1\n",
            "2\n"
          ]
        }
      ]
    },
    {
      "cell_type": "markdown",
      "source": [
        "3) Check whether the triangle is equilateral, isosceles, or scalene triangle."
      ],
      "metadata": {
        "id": "UVnhjPaCQE2k"
      }
    },
    {
      "cell_type": "code",
      "source": [
        "a=int(input(\"enter the length of side a\"))\n",
        "b=int(input(\"enter the length of side b\"))\n",
        "c=int(input(\"enter the length of side c\"))\n",
        "\n",
        "if(a==b and a==c):\n",
        "  print(\"equilateral\")\n",
        "elif(a==b or a==c and b!=c):\n",
        "  print(\"isoceles\")\n",
        "elif(a!=b and a!=c and b!=c):\n",
        "  print(\"scalene\")\n",
        "else:\n",
        "  print(\"invalid input\")\n"
      ],
      "metadata": {
        "colab": {
          "base_uri": "https://localhost:8080/"
        },
        "id": "fGNOSvI-P4kD",
        "outputId": "5c9ba68f-d70b-4587-b878-27c36714ef23"
      },
      "execution_count": 20,
      "outputs": [
        {
          "output_type": "stream",
          "name": "stdout",
          "text": [
            "enter the length of side a10\n",
            "enter the length of side b12\n",
            "enter the length of side c13\n",
            "scalene\n"
          ]
        }
      ]
    },
    {
      "cell_type": "markdown",
      "source": [
        "4) Check whether entered year is a leap year or not"
      ],
      "metadata": {
        "id": "oD3v24oxS9Ku"
      }
    },
    {
      "cell_type": "code",
      "source": [
        "year=int(input(\"enter the  year\"))\n",
        "if(year%4==0):\n",
        "  print(\"leap year\")\n",
        "else:\n",
        "  print(\"not a leap year\")"
      ],
      "metadata": {
        "colab": {
          "base_uri": "https://localhost:8080/"
        },
        "id": "OEya7UfISwD5",
        "outputId": "6f754f60-f39d-4042-8967-bb98a0d59877"
      },
      "execution_count": 23,
      "outputs": [
        {
          "output_type": "stream",
          "name": "stdout",
          "text": [
            "enter the  year2004\n",
            "leap year\n"
          ]
        }
      ]
    },
    {
      "cell_type": "markdown",
      "source": [
        "5) Find minimum among three numbers.\n"
      ],
      "metadata": {
        "id": "PqNJ2ogSUNHt"
      }
    },
    {
      "cell_type": "code",
      "source": [
        "a=int(input(\"enter the value of a \"))\n",
        "b=int(input(\"enter the value of b \"))\n",
        "c=int(input(\"enter the value of c \"))\n",
        "if(a<b and a<c):\n",
        "  print(\"a is the least number\")\n",
        "elif(b<a and b<c):\n",
        "  print(\"b is the least number\")\n",
        "else:\n",
        "  print(\"c is the least number\")"
      ],
      "metadata": {
        "colab": {
          "base_uri": "https://localhost:8080/"
        },
        "id": "-zRms0CtUMOl",
        "outputId": "bd27e686-4a80-499d-bac0-c81d5a00b48e"
      },
      "execution_count": 24,
      "outputs": [
        {
          "output_type": "stream",
          "name": "stdout",
          "text": [
            "enter the value of a 2\n",
            "enter the value of b 1\n",
            "enter the value of c 10\n",
            "b is the least number\n"
          ]
        }
      ]
    },
    {
      "cell_type": "markdown",
      "source": [
        "6)Check whether a number is divisible by 5 and 11 or not"
      ],
      "metadata": {
        "id": "Oxw_LU4HU0dk"
      }
    },
    {
      "cell_type": "code",
      "source": [
        "a=int(input(\"enter the value of a \"))\n",
        "if(a%5==0 and a%11==0):\n",
        "  print(\"divisible by 5 and 11\")\n",
        "else:\n",
        "  print(\"not divisible 5 and 11\")"
      ],
      "metadata": {
        "colab": {
          "base_uri": "https://localhost:8080/"
        },
        "id": "6ski_QtvU7mw",
        "outputId": "60f9ceed-0cda-428d-9ad7-a17f74b30446"
      },
      "execution_count": 26,
      "outputs": [
        {
          "output_type": "stream",
          "name": "stdout",
          "text": [
            "enter the value of a 112\n",
            "not divisible 5 and 11\n"
          ]
        }
      ]
    }
  ]
}